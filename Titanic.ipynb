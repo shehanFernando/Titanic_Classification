{
 "cells": [
  {
   "cell_type": "code",
   "execution_count": 71,
   "metadata": {},
   "outputs": [],
   "source": [
    "import pandas as pd\n",
    "import numpy as np\n",
    "import matplotlib.pyplot as plt\n",
    "import seaborn as sns\n",
    "from sklearn.model_selection import *\n",
    "import sklearn\n",
    "from sklearn import metrics\n",
    "from sklearn import tree\n",
    "from sklearn import ensemble\n",
    "sns.set()"
   ]
  },
  {
   "cell_type": "markdown",
   "metadata": {},
   "source": [
    "## Data Import "
   ]
  },
  {
   "cell_type": "code",
   "execution_count": 72,
   "metadata": {},
   "outputs": [],
   "source": [
    "train = pd.read_csv(\"train.csv\")\n",
    "test = pd.read_csv(\"test.csv\")\n",
    "gender = pd.read_csv(\"gender_submission.csv\")\n",
    "col = train.columns"
   ]
  },
  {
   "cell_type": "code",
   "execution_count": 73,
   "metadata": {},
   "outputs": [
    {
     "name": "stdout",
     "output_type": "stream",
     "text": [
      "<class 'pandas.core.frame.DataFrame'>\n",
      "RangeIndex: 891 entries, 0 to 890\n",
      "Data columns (total 12 columns):\n",
      "PassengerId    891 non-null int64\n",
      "Survived       891 non-null int64\n",
      "Pclass         891 non-null int64\n",
      "Name           891 non-null object\n",
      "Sex            891 non-null object\n",
      "Age            714 non-null float64\n",
      "SibSp          891 non-null int64\n",
      "Parch          891 non-null int64\n",
      "Ticket         891 non-null object\n",
      "Fare           891 non-null float64\n",
      "Cabin          204 non-null object\n",
      "Embarked       889 non-null object\n",
      "dtypes: float64(2), int64(5), object(5)\n",
      "memory usage: 83.6+ KB\n"
     ]
    }
   ],
   "source": [
    "#Data information\n",
    "train.info()"
   ]
  },
  {
   "cell_type": "code",
   "execution_count": 74,
   "metadata": {},
   "outputs": [
    {
     "name": "stdout",
     "output_type": "stream",
     "text": [
      "🞇 index: 0  column name: PassengerId\n",
      "🞇 index: 1  column name: Survived\n",
      "🞇 index: 2  column name: Pclass\n",
      "🞇 index: 3  column name: Name\n",
      "🞇 index: 4  column name: Sex\n",
      "🞇 index: 5  column name: Age\n",
      "🞇 index: 6  column name: SibSp\n",
      "🞇 index: 7  column name: Parch\n",
      "🞇 index: 8  column name: Ticket\n",
      "🞇 index: 9  column name: Fare\n",
      "🞇 index: 10  column name: Cabin\n",
      "🞇 index: 11  column name: Embarked\n"
     ]
    }
   ],
   "source": [
    "f=128903 #bullet styling\n",
    "col # Colum names\n",
    "for i, n in enumerate(col):\n",
    "    print(\"{:c} index: {}  column name: {}\".format(f,i,n))"
   ]
  },
  {
   "cell_type": "markdown",
   "metadata": {},
   "source": [
    "## Preprocessing:"
   ]
  },
  {
   "cell_type": "code",
   "execution_count": 75,
   "metadata": {},
   "outputs": [
    {
     "name": "stdout",
     "output_type": "stream",
     "text": [
      "🞇 Convert string values to numeric\n",
      "🞇 Remove cols that do not contribute: Name, Cabin, Ticket and ?\n",
      "🞇 Missing data: Age, Cabin, Embarked\n",
      "🞇 Handling Data\n"
     ]
    }
   ],
   "source": [
    "def toDoPrint(List,f):\n",
    "    str =\"\"\n",
    "    temp = \"\"\n",
    "    for i in List:\n",
    "        temp =\"{:c} {}\".format(f,i)\n",
    "        print(temp)\n",
    "        str += temp + \"\\n\"\n",
    "    return str\n",
    "        \n",
    "        \n",
    "        \n",
    "Todo = {\"Missing data: Age, Cabin, Embarked\",\n",
    "        \"Handling Data\",\"Convert string values to numeric\", \n",
    "        \"Remove cols that do not contribute: Name, Cabin, Ticket and ?\"\n",
    "    }\n",
    "\n",
    "todo_list = toDoPrint(Todo,f)"
   ]
  },
  {
   "cell_type": "code",
   "execution_count": 76,
   "metadata": {},
   "outputs": [],
   "source": [
    "def sexRatio(data):\n",
    "    \"\"\"m = male \n",
    "       f = female\n",
    "       t = Total\n",
    "       return an array [men%, female%, Total]\n",
    "    \"\"\"\n",
    "    m=data.Sex[train.Sex==\"male\"].count()\n",
    "    f=data.Sex[train.Sex==\"female\"].count()\n",
    "    t=m+f\n",
    "    return [m/t*100,f/t*100,t]"
   ]
  },
  {
   "cell_type": "code",
   "execution_count": 77,
   "metadata": {},
   "outputs": [],
   "source": [
    "def sumList(a,b):\n",
    "    \"\"\"return corresponding sum of each elements\"\"\"\n",
    "    length = len(a)\n",
    "    if(length != len(b)):\n",
    "        print(\"A and B are not the same length\")\n",
    "        return []\n",
    "    \n",
    "    sum_v =[]\n",
    "    for i in range(0,length):\n",
    "        sum_v.append(a[i]+b[i])\n",
    "        \n",
    "    return sum_v\n",
    "    \n",
    "    \n",
    "def pieChart(data, data1=[], both=False):\n",
    "  \n",
    "    \n",
    "    if(both):\n",
    "        ratio = sumList(sexRatio(data),sexRatio(data1))\n",
    "    else:\n",
    "        ratio = sexRatio(data)\n",
    "    \n",
    "    labels = 'Male', 'Female'\n",
    "    sizes = [ratio[0], ratio[1]]\n",
    "    \n",
    "\n",
    "    fig1, ax1 = plt.subplots()\n",
    "    ax1.pie(sizes,labels=labels, autopct='%1.1f%%',\n",
    "            shadow=True, startangle=90)\n",
    "    \n",
    "\n",
    "    plt.show()"
   ]
  },
  {
   "cell_type": "code",
   "execution_count": 78,
   "metadata": {},
   "outputs": [
    {
     "data": {
      "image/png": "[encoded data removed]",
      "text/plain": [
       "<Figure size 432x288 with 1 Axes>"
      ]
     },
     "metadata": {},
     "output_type": "display_data"
    }
   ],
   "source": [
    "pieChart(train,test,both=True)"
   ]
  },
  {
   "cell_type": "markdown",
   "metadata": {},
   "source": [
    "## Missing data:"
   ]
  },
  {
   "cell_type": "code",
   "execution_count": 79,
   "metadata": {},
   "outputs": [],
   "source": [
    "def numerOfMissingValues(p, col, get_data = False):\n",
    "    \"\"\"numerOfMissingValues(pd, col, get_data = False)\n",
    "       p: DataFrame\n",
    "       col: column that needs to find the missing values\n",
    "\n",
    "       Returns the total number of missing data\n",
    "       return the pandas DatFrame of values if get_data is set to True\n",
    "    \"\"\"\n",
    "    data = p[pd.isnull(p[col])]\n",
    "    if get_data:\n",
    "        return data\n",
    "    else: \n",
    "        return len(data)"
   ]
  },
  {
   "cell_type": "code",
   "execution_count": 80,
   "metadata": {},
   "outputs": [
    {
     "name": "stdout",
     "output_type": "stream",
     "text": [
      "🞇 Number of values missing in Age is: 177\n",
      "🞇 Number of values missing in Cabin is: 687\n",
      "🞇 Number of values missing in Embarked is: 2\n"
     ]
    }
   ],
   "source": [
    "# As shown on info there are 891 rows of data\n",
    "\n",
    "missing =['Age', 'Cabin','Embarked']\n",
    "for i in missing:\n",
    "    print(\"{:c} Number of values missing in {} is: {}\".format(f,i,numerOfMissingValues(train,i)))\n",
    "    "
   ]
  },
  {
   "cell_type": "markdown",
   "metadata": {},
   "source": [
    "***As shown above there are 177 missing values in Age, Cabin and Embarked**"
   ]
  },
  {
   "cell_type": "markdown",
   "metadata": {},
   "source": [
    "### Handling Missing Data"
   ]
  },
  {
   "cell_type": "code",
   "execution_count": 82,
   "metadata": {},
   "outputs": [
    {
     "ename": "KeyError",
     "evalue": "\"['Name' 'Ticket' 'Cabin'] not found in axis\"",
     "output_type": "error",
     "traceback": [
      "\u001b[1;31m---------------------------------------------------------------------------\u001b[0m",
      "\u001b[1;31mKeyError\u001b[0m                                  Traceback (most recent call last)",
      "\u001b[1;32m<ipython-input-82-0db26981bbeb>\u001b[0m in \u001b[0;36m<module>\u001b[1;34m\u001b[0m\n\u001b[0;32m      3\u001b[0m \u001b[1;31m#Drop 'Name','Ticket','Cabin' because it is nor relavant to the model\u001b[0m\u001b[1;33m\u001b[0m\u001b[1;33m\u001b[0m\u001b[1;33m\u001b[0m\u001b[0m\n\u001b[0;32m      4\u001b[0m \u001b[0mcols\u001b[0m \u001b[1;33m=\u001b[0m \u001b[1;33m[\u001b[0m\u001b[1;34m'Name'\u001b[0m\u001b[1;33m,\u001b[0m\u001b[1;34m'Ticket'\u001b[0m\u001b[1;33m,\u001b[0m\u001b[1;34m'Cabin'\u001b[0m\u001b[1;33m]\u001b[0m\u001b[1;33m\u001b[0m\u001b[1;33m\u001b[0m\u001b[0m\n\u001b[1;32m----> 5\u001b[1;33m \u001b[0mtrain\u001b[0m \u001b[1;33m=\u001b[0m \u001b[0mtrain\u001b[0m\u001b[1;33m.\u001b[0m\u001b[0mdrop\u001b[0m\u001b[1;33m(\u001b[0m\u001b[0mcols\u001b[0m\u001b[1;33m,\u001b[0m\u001b[0maxis\u001b[0m\u001b[1;33m=\u001b[0m\u001b[1;36m1\u001b[0m\u001b[1;33m)\u001b[0m\u001b[1;33m\u001b[0m\u001b[1;33m\u001b[0m\u001b[0m\n\u001b[0m",
      "\u001b[1;32m~\\Anaconda3\\lib\\site-packages\\pandas\\core\\frame.py\u001b[0m in \u001b[0;36mdrop\u001b[1;34m(self, labels, axis, index, columns, level, inplace, errors)\u001b[0m\n\u001b[0;32m   3695\u001b[0m                                            \u001b[0mindex\u001b[0m\u001b[1;33m=\u001b[0m\u001b[0mindex\u001b[0m\u001b[1;33m,\u001b[0m \u001b[0mcolumns\u001b[0m\u001b[1;33m=\u001b[0m\u001b[0mcolumns\u001b[0m\u001b[1;33m,\u001b[0m\u001b[1;33m\u001b[0m\u001b[1;33m\u001b[0m\u001b[0m\n\u001b[0;32m   3696\u001b[0m                                            \u001b[0mlevel\u001b[0m\u001b[1;33m=\u001b[0m\u001b[0mlevel\u001b[0m\u001b[1;33m,\u001b[0m \u001b[0minplace\u001b[0m\u001b[1;33m=\u001b[0m\u001b[0minplace\u001b[0m\u001b[1;33m,\u001b[0m\u001b[1;33m\u001b[0m\u001b[1;33m\u001b[0m\u001b[0m\n\u001b[1;32m-> 3697\u001b[1;33m                                            errors=errors)\n\u001b[0m\u001b[0;32m   3698\u001b[0m \u001b[1;33m\u001b[0m\u001b[0m\n\u001b[0;32m   3699\u001b[0m     @rewrite_axis_style_signature('mapper', [('copy', True),\n",
      "\u001b[1;32m~\\Anaconda3\\lib\\site-packages\\pandas\\core\\generic.py\u001b[0m in \u001b[0;36mdrop\u001b[1;34m(self, labels, axis, index, columns, level, inplace, errors)\u001b[0m\n\u001b[0;32m   3109\u001b[0m         \u001b[1;32mfor\u001b[0m \u001b[0maxis\u001b[0m\u001b[1;33m,\u001b[0m \u001b[0mlabels\u001b[0m \u001b[1;32min\u001b[0m \u001b[0maxes\u001b[0m\u001b[1;33m.\u001b[0m\u001b[0mitems\u001b[0m\u001b[1;33m(\u001b[0m\u001b[1;33m)\u001b[0m\u001b[1;33m:\u001b[0m\u001b[1;33m\u001b[0m\u001b[1;33m\u001b[0m\u001b[0m\n\u001b[0;32m   3110\u001b[0m             \u001b[1;32mif\u001b[0m \u001b[0mlabels\u001b[0m \u001b[1;32mis\u001b[0m \u001b[1;32mnot\u001b[0m \u001b[1;32mNone\u001b[0m\u001b[1;33m:\u001b[0m\u001b[1;33m\u001b[0m\u001b[1;33m\u001b[0m\u001b[0m\n\u001b[1;32m-> 3111\u001b[1;33m                 \u001b[0mobj\u001b[0m \u001b[1;33m=\u001b[0m \u001b[0mobj\u001b[0m\u001b[1;33m.\u001b[0m\u001b[0m_drop_axis\u001b[0m\u001b[1;33m(\u001b[0m\u001b[0mlabels\u001b[0m\u001b[1;33m,\u001b[0m \u001b[0maxis\u001b[0m\u001b[1;33m,\u001b[0m \u001b[0mlevel\u001b[0m\u001b[1;33m=\u001b[0m\u001b[0mlevel\u001b[0m\u001b[1;33m,\u001b[0m \u001b[0merrors\u001b[0m\u001b[1;33m=\u001b[0m\u001b[0merrors\u001b[0m\u001b[1;33m)\u001b[0m\u001b[1;33m\u001b[0m\u001b[1;33m\u001b[0m\u001b[0m\n\u001b[0m\u001b[0;32m   3112\u001b[0m \u001b[1;33m\u001b[0m\u001b[0m\n\u001b[0;32m   3113\u001b[0m         \u001b[1;32mif\u001b[0m \u001b[0minplace\u001b[0m\u001b[1;33m:\u001b[0m\u001b[1;33m\u001b[0m\u001b[1;33m\u001b[0m\u001b[0m\n",
      "\u001b[1;32m~\\Anaconda3\\lib\\site-packages\\pandas\\core\\generic.py\u001b[0m in \u001b[0;36m_drop_axis\u001b[1;34m(self, labels, axis, level, errors)\u001b[0m\n\u001b[0;32m   3141\u001b[0m                 \u001b[0mnew_axis\u001b[0m \u001b[1;33m=\u001b[0m \u001b[0maxis\u001b[0m\u001b[1;33m.\u001b[0m\u001b[0mdrop\u001b[0m\u001b[1;33m(\u001b[0m\u001b[0mlabels\u001b[0m\u001b[1;33m,\u001b[0m \u001b[0mlevel\u001b[0m\u001b[1;33m=\u001b[0m\u001b[0mlevel\u001b[0m\u001b[1;33m,\u001b[0m \u001b[0merrors\u001b[0m\u001b[1;33m=\u001b[0m\u001b[0merrors\u001b[0m\u001b[1;33m)\u001b[0m\u001b[1;33m\u001b[0m\u001b[1;33m\u001b[0m\u001b[0m\n\u001b[0;32m   3142\u001b[0m             \u001b[1;32melse\u001b[0m\u001b[1;33m:\u001b[0m\u001b[1;33m\u001b[0m\u001b[1;33m\u001b[0m\u001b[0m\n\u001b[1;32m-> 3143\u001b[1;33m                 \u001b[0mnew_axis\u001b[0m \u001b[1;33m=\u001b[0m \u001b[0maxis\u001b[0m\u001b[1;33m.\u001b[0m\u001b[0mdrop\u001b[0m\u001b[1;33m(\u001b[0m\u001b[0mlabels\u001b[0m\u001b[1;33m,\u001b[0m \u001b[0merrors\u001b[0m\u001b[1;33m=\u001b[0m\u001b[0merrors\u001b[0m\u001b[1;33m)\u001b[0m\u001b[1;33m\u001b[0m\u001b[1;33m\u001b[0m\u001b[0m\n\u001b[0m\u001b[0;32m   3144\u001b[0m             \u001b[0mresult\u001b[0m \u001b[1;33m=\u001b[0m \u001b[0mself\u001b[0m\u001b[1;33m.\u001b[0m\u001b[0mreindex\u001b[0m\u001b[1;33m(\u001b[0m\u001b[1;33m**\u001b[0m\u001b[1;33m{\u001b[0m\u001b[0maxis_name\u001b[0m\u001b[1;33m:\u001b[0m \u001b[0mnew_axis\u001b[0m\u001b[1;33m}\u001b[0m\u001b[1;33m)\u001b[0m\u001b[1;33m\u001b[0m\u001b[1;33m\u001b[0m\u001b[0m\n\u001b[0;32m   3145\u001b[0m \u001b[1;33m\u001b[0m\u001b[0m\n",
      "\u001b[1;32m~\\Anaconda3\\lib\\site-packages\\pandas\\core\\indexes\\base.py\u001b[0m in \u001b[0;36mdrop\u001b[1;34m(self, labels, errors)\u001b[0m\n\u001b[0;32m   4402\u001b[0m             \u001b[1;32mif\u001b[0m \u001b[0merrors\u001b[0m \u001b[1;33m!=\u001b[0m \u001b[1;34m'ignore'\u001b[0m\u001b[1;33m:\u001b[0m\u001b[1;33m\u001b[0m\u001b[1;33m\u001b[0m\u001b[0m\n\u001b[0;32m   4403\u001b[0m                 raise KeyError(\n\u001b[1;32m-> 4404\u001b[1;33m                     '{} not found in axis'.format(labels[mask]))\n\u001b[0m\u001b[0;32m   4405\u001b[0m             \u001b[0mindexer\u001b[0m \u001b[1;33m=\u001b[0m \u001b[0mindexer\u001b[0m\u001b[1;33m[\u001b[0m\u001b[1;33m~\u001b[0m\u001b[0mmask\u001b[0m\u001b[1;33m]\u001b[0m\u001b[1;33m\u001b[0m\u001b[1;33m\u001b[0m\u001b[0m\n\u001b[0;32m   4406\u001b[0m         \u001b[1;32mreturn\u001b[0m \u001b[0mself\u001b[0m\u001b[1;33m.\u001b[0m\u001b[0mdelete\u001b[0m\u001b[1;33m(\u001b[0m\u001b[0mindexer\u001b[0m\u001b[1;33m)\u001b[0m\u001b[1;33m\u001b[0m\u001b[1;33m\u001b[0m\u001b[0m\n",
      "\u001b[1;31mKeyError\u001b[0m: \"['Name' 'Ticket' 'Cabin'] not found in axis\""
     ]
    }
   ],
   "source": [
    "#Age: interpolate the missing data\n",
    "train['Age'] = train['Age'].interpolate()\n",
    "#Drop 'Name','Ticket','Cabin' because it is nor relavant to the model\n",
    "cols = ['Name','Ticket','Cabin']\n",
    "train = train.drop(cols,axis=1)"
   ]
  },
  {
   "cell_type": "code",
   "execution_count": 83,
   "metadata": {
    "scrolled": true
   },
   "outputs": [
    {
     "data": {
      "text/html": [
       "<div>\n",
       "<style scoped>\n",
       "    .dataframe tbody tr th:only-of-type {\n",
       "        vertical-align: middle;\n",
       "    }\n",
       "\n",
       "    .dataframe tbody tr th {\n",
       "        vertical-align: top;\n",
       "    }\n",
       "\n",
       "    .dataframe thead th {\n",
       "        text-align: right;\n",
       "    }\n",
       "</style>\n",
       "<table border=\"1\" class=\"dataframe\">\n",
       "  <thead>\n",
       "    <tr style=\"text-align: right;\">\n",
       "      <th></th>\n",
       "      <th>PassengerId</th>\n",
       "      <th>Survived</th>\n",
       "      <th>Pclass</th>\n",
       "      <th>Sex</th>\n",
       "      <th>Age</th>\n",
       "      <th>SibSp</th>\n",
       "      <th>Parch</th>\n",
       "      <th>Fare</th>\n",
       "      <th>Embarked</th>\n",
       "    </tr>\n",
       "  </thead>\n",
       "  <tbody>\n",
       "    <tr>\n",
       "      <th>0</th>\n",
       "      <td>1</td>\n",
       "      <td>0</td>\n",
       "      <td>3</td>\n",
       "      <td>male</td>\n",
       "      <td>22.0</td>\n",
       "      <td>1</td>\n",
       "      <td>0</td>\n",
       "      <td>7.2500</td>\n",
       "      <td>S</td>\n",
       "    </tr>\n",
       "    <tr>\n",
       "      <th>1</th>\n",
       "      <td>2</td>\n",
       "      <td>1</td>\n",
       "      <td>1</td>\n",
       "      <td>female</td>\n",
       "      <td>38.0</td>\n",
       "      <td>1</td>\n",
       "      <td>0</td>\n",
       "      <td>71.2833</td>\n",
       "      <td>C</td>\n",
       "    </tr>\n",
       "    <tr>\n",
       "      <th>2</th>\n",
       "      <td>3</td>\n",
       "      <td>1</td>\n",
       "      <td>3</td>\n",
       "      <td>female</td>\n",
       "      <td>26.0</td>\n",
       "      <td>0</td>\n",
       "      <td>0</td>\n",
       "      <td>7.9250</td>\n",
       "      <td>S</td>\n",
       "    </tr>\n",
       "    <tr>\n",
       "      <th>3</th>\n",
       "      <td>4</td>\n",
       "      <td>1</td>\n",
       "      <td>1</td>\n",
       "      <td>female</td>\n",
       "      <td>35.0</td>\n",
       "      <td>1</td>\n",
       "      <td>0</td>\n",
       "      <td>53.1000</td>\n",
       "      <td>S</td>\n",
       "    </tr>\n",
       "    <tr>\n",
       "      <th>4</th>\n",
       "      <td>5</td>\n",
       "      <td>0</td>\n",
       "      <td>3</td>\n",
       "      <td>male</td>\n",
       "      <td>35.0</td>\n",
       "      <td>0</td>\n",
       "      <td>0</td>\n",
       "      <td>8.0500</td>\n",
       "      <td>S</td>\n",
       "    </tr>\n",
       "  </tbody>\n",
       "</table>\n",
       "</div>"
      ],
      "text/plain": [
       "   PassengerId  Survived  Pclass     Sex   Age  SibSp  Parch     Fare Embarked\n",
       "0            1         0       3    male  22.0      1      0   7.2500        S\n",
       "1            2         1       1  female  38.0      1      0  71.2833        C\n",
       "2            3         1       3  female  26.0      0      0   7.9250        S\n",
       "3            4         1       1  female  35.0      1      0  53.1000        S\n",
       "4            5         0       3    male  35.0      0      0   8.0500        S"
      ]
     },
     "execution_count": 83,
     "metadata": {},
     "output_type": "execute_result"
    }
   ],
   "source": [
    "train.head()"
   ]
  },
  {
   "cell_type": "markdown",
   "metadata": {},
   "source": [
    "### Converting String literals to Numeric:"
   ]
  },
  {
   "cell_type": "code",
   "execution_count": 84,
   "metadata": {},
   "outputs": [
    {
     "data": {
      "text/plain": [
       "'\\ndef stringToNum(row):\\n    if(row.Sex)==\"female\":\\n        row.Sex = 1\\n    else:\\n        row.Sex = 2\\n\\n    if(row.Embarked)==\"S\":\\n        row.Embarked = 1\\n    elif row.Embarked == \"C\":\\n        row.Embarked = 2\\n    else:\\n        row.Embarked = 3\\n        \\n    return row\\n\\ntrain =train.apply(stringToNum, axis=\\'columns\\')\\ntrain.head(10)\\n'"
      ]
     },
     "execution_count": 84,
     "metadata": {},
     "output_type": "execute_result"
    }
   ],
   "source": [
    "\"\"\"\n",
    "def stringToNum(row):\n",
    "    if(row.Sex)==\"female\":\n",
    "        row.Sex = 1\n",
    "    else:\n",
    "        row.Sex = 2\n",
    "\n",
    "    if(row.Embarked)==\"S\":\n",
    "        row.Embarked = 1\n",
    "    elif row.Embarked == \"C\":\n",
    "        row.Embarked = 2\n",
    "    else:\n",
    "        row.Embarked = 3\n",
    "        \n",
    "    return row\n",
    "\n",
    "train =train.apply(stringToNum, axis='columns')\n",
    "train.head(10)\n",
    "\"\"\""
   ]
  },
  {
   "cell_type": "markdown",
   "metadata": {},
   "source": [
    "### Classification:"
   ]
  },
  {
   "cell_type": "code",
   "execution_count": 85,
   "metadata": {},
   "outputs": [],
   "source": [
    "df = train\n",
    "x = df.values\n",
    "y = df['Survived'].values\n",
    "x = np.delete(x,1,axis=1)"
   ]
  },
  {
   "cell_type": "code",
   "execution_count": 86,
   "metadata": {},
   "outputs": [],
   "source": [
    "X_train,X_test,Y_train,Y_test = sklearn.model_selection.train_test_split(x,y,test_size=.3)"
   ]
  },
  {
   "cell_type": "code",
   "execution_count": 87,
   "metadata": {},
   "outputs": [
    {
     "ename": "ValueError",
     "evalue": "could not convert string to float: 'male'",
     "output_type": "error",
     "traceback": [
      "\u001b[1;31m---------------------------------------------------------------------------\u001b[0m",
      "\u001b[1;31mValueError\u001b[0m                                Traceback (most recent call last)",
      "\u001b[1;32m<ipython-input-87-661315f9cab4>\u001b[0m in \u001b[0;36m<module>\u001b[1;34m\u001b[0m\n\u001b[0;32m      1\u001b[0m \u001b[0mclf\u001b[0m \u001b[1;33m=\u001b[0m \u001b[0mtree\u001b[0m\u001b[1;33m.\u001b[0m\u001b[0mDecisionTreeClassifier\u001b[0m\u001b[1;33m(\u001b[0m\u001b[0mmax_depth\u001b[0m\u001b[1;33m=\u001b[0m\u001b[1;36m5\u001b[0m\u001b[1;33m)\u001b[0m\u001b[1;33m\u001b[0m\u001b[1;33m\u001b[0m\u001b[0m\n\u001b[1;32m----> 2\u001b[1;33m \u001b[0mclf\u001b[0m\u001b[1;33m.\u001b[0m\u001b[0mfit\u001b[0m\u001b[1;33m(\u001b[0m\u001b[0mX_train\u001b[0m\u001b[1;33m,\u001b[0m\u001b[0mY_train\u001b[0m\u001b[1;33m)\u001b[0m\u001b[1;33m\u001b[0m\u001b[1;33m\u001b[0m\u001b[0m\n\u001b[0m\u001b[0;32m      3\u001b[0m \u001b[0mclf\u001b[0m\u001b[1;33m.\u001b[0m\u001b[0mscore\u001b[0m\u001b[1;33m(\u001b[0m\u001b[0mX_test\u001b[0m\u001b[1;33m,\u001b[0m\u001b[0mY_test\u001b[0m\u001b[1;33m)\u001b[0m\u001b[1;33m\u001b[0m\u001b[1;33m\u001b[0m\u001b[0m\n",
      "\u001b[1;32m~\\Anaconda3\\lib\\site-packages\\sklearn\\tree\\tree.py\u001b[0m in \u001b[0;36mfit\u001b[1;34m(self, X, y, sample_weight, check_input, X_idx_sorted)\u001b[0m\n\u001b[0;32m    799\u001b[0m             \u001b[0msample_weight\u001b[0m\u001b[1;33m=\u001b[0m\u001b[0msample_weight\u001b[0m\u001b[1;33m,\u001b[0m\u001b[1;33m\u001b[0m\u001b[1;33m\u001b[0m\u001b[0m\n\u001b[0;32m    800\u001b[0m             \u001b[0mcheck_input\u001b[0m\u001b[1;33m=\u001b[0m\u001b[0mcheck_input\u001b[0m\u001b[1;33m,\u001b[0m\u001b[1;33m\u001b[0m\u001b[1;33m\u001b[0m\u001b[0m\n\u001b[1;32m--> 801\u001b[1;33m             X_idx_sorted=X_idx_sorted)\n\u001b[0m\u001b[0;32m    802\u001b[0m         \u001b[1;32mreturn\u001b[0m \u001b[0mself\u001b[0m\u001b[1;33m\u001b[0m\u001b[1;33m\u001b[0m\u001b[0m\n\u001b[0;32m    803\u001b[0m \u001b[1;33m\u001b[0m\u001b[0m\n",
      "\u001b[1;32m~\\Anaconda3\\lib\\site-packages\\sklearn\\tree\\tree.py\u001b[0m in \u001b[0;36mfit\u001b[1;34m(self, X, y, sample_weight, check_input, X_idx_sorted)\u001b[0m\n\u001b[0;32m    114\u001b[0m         \u001b[0mrandom_state\u001b[0m \u001b[1;33m=\u001b[0m \u001b[0mcheck_random_state\u001b[0m\u001b[1;33m(\u001b[0m\u001b[0mself\u001b[0m\u001b[1;33m.\u001b[0m\u001b[0mrandom_state\u001b[0m\u001b[1;33m)\u001b[0m\u001b[1;33m\u001b[0m\u001b[1;33m\u001b[0m\u001b[0m\n\u001b[0;32m    115\u001b[0m         \u001b[1;32mif\u001b[0m \u001b[0mcheck_input\u001b[0m\u001b[1;33m:\u001b[0m\u001b[1;33m\u001b[0m\u001b[1;33m\u001b[0m\u001b[0m\n\u001b[1;32m--> 116\u001b[1;33m             \u001b[0mX\u001b[0m \u001b[1;33m=\u001b[0m \u001b[0mcheck_array\u001b[0m\u001b[1;33m(\u001b[0m\u001b[0mX\u001b[0m\u001b[1;33m,\u001b[0m \u001b[0mdtype\u001b[0m\u001b[1;33m=\u001b[0m\u001b[0mDTYPE\u001b[0m\u001b[1;33m,\u001b[0m \u001b[0maccept_sparse\u001b[0m\u001b[1;33m=\u001b[0m\u001b[1;34m\"csc\"\u001b[0m\u001b[1;33m)\u001b[0m\u001b[1;33m\u001b[0m\u001b[1;33m\u001b[0m\u001b[0m\n\u001b[0m\u001b[0;32m    117\u001b[0m             \u001b[0my\u001b[0m \u001b[1;33m=\u001b[0m \u001b[0mcheck_array\u001b[0m\u001b[1;33m(\u001b[0m\u001b[0my\u001b[0m\u001b[1;33m,\u001b[0m \u001b[0mensure_2d\u001b[0m\u001b[1;33m=\u001b[0m\u001b[1;32mFalse\u001b[0m\u001b[1;33m,\u001b[0m \u001b[0mdtype\u001b[0m\u001b[1;33m=\u001b[0m\u001b[1;32mNone\u001b[0m\u001b[1;33m)\u001b[0m\u001b[1;33m\u001b[0m\u001b[1;33m\u001b[0m\u001b[0m\n\u001b[0;32m    118\u001b[0m             \u001b[1;32mif\u001b[0m \u001b[0missparse\u001b[0m\u001b[1;33m(\u001b[0m\u001b[0mX\u001b[0m\u001b[1;33m)\u001b[0m\u001b[1;33m:\u001b[0m\u001b[1;33m\u001b[0m\u001b[1;33m\u001b[0m\u001b[0m\n",
      "\u001b[1;32m~\\Anaconda3\\lib\\site-packages\\sklearn\\utils\\validation.py\u001b[0m in \u001b[0;36mcheck_array\u001b[1;34m(array, accept_sparse, accept_large_sparse, dtype, order, copy, force_all_finite, ensure_2d, allow_nd, ensure_min_samples, ensure_min_features, warn_on_dtype, estimator)\u001b[0m\n\u001b[0;32m    525\u001b[0m             \u001b[1;32mtry\u001b[0m\u001b[1;33m:\u001b[0m\u001b[1;33m\u001b[0m\u001b[1;33m\u001b[0m\u001b[0m\n\u001b[0;32m    526\u001b[0m                 \u001b[0mwarnings\u001b[0m\u001b[1;33m.\u001b[0m\u001b[0msimplefilter\u001b[0m\u001b[1;33m(\u001b[0m\u001b[1;34m'error'\u001b[0m\u001b[1;33m,\u001b[0m \u001b[0mComplexWarning\u001b[0m\u001b[1;33m)\u001b[0m\u001b[1;33m\u001b[0m\u001b[1;33m\u001b[0m\u001b[0m\n\u001b[1;32m--> 527\u001b[1;33m                 \u001b[0marray\u001b[0m \u001b[1;33m=\u001b[0m \u001b[0mnp\u001b[0m\u001b[1;33m.\u001b[0m\u001b[0masarray\u001b[0m\u001b[1;33m(\u001b[0m\u001b[0marray\u001b[0m\u001b[1;33m,\u001b[0m \u001b[0mdtype\u001b[0m\u001b[1;33m=\u001b[0m\u001b[0mdtype\u001b[0m\u001b[1;33m,\u001b[0m \u001b[0morder\u001b[0m\u001b[1;33m=\u001b[0m\u001b[0morder\u001b[0m\u001b[1;33m)\u001b[0m\u001b[1;33m\u001b[0m\u001b[1;33m\u001b[0m\u001b[0m\n\u001b[0m\u001b[0;32m    528\u001b[0m             \u001b[1;32mexcept\u001b[0m \u001b[0mComplexWarning\u001b[0m\u001b[1;33m:\u001b[0m\u001b[1;33m\u001b[0m\u001b[1;33m\u001b[0m\u001b[0m\n\u001b[0;32m    529\u001b[0m                 raise ValueError(\"Complex data not supported\\n\"\n",
      "\u001b[1;32m~\\Anaconda3\\lib\\site-packages\\numpy\\core\\numeric.py\u001b[0m in \u001b[0;36masarray\u001b[1;34m(a, dtype, order)\u001b[0m\n\u001b[0;32m    499\u001b[0m \u001b[1;33m\u001b[0m\u001b[0m\n\u001b[0;32m    500\u001b[0m     \"\"\"\n\u001b[1;32m--> 501\u001b[1;33m     \u001b[1;32mreturn\u001b[0m \u001b[0marray\u001b[0m\u001b[1;33m(\u001b[0m\u001b[0ma\u001b[0m\u001b[1;33m,\u001b[0m \u001b[0mdtype\u001b[0m\u001b[1;33m,\u001b[0m \u001b[0mcopy\u001b[0m\u001b[1;33m=\u001b[0m\u001b[1;32mFalse\u001b[0m\u001b[1;33m,\u001b[0m \u001b[0morder\u001b[0m\u001b[1;33m=\u001b[0m\u001b[0morder\u001b[0m\u001b[1;33m)\u001b[0m\u001b[1;33m\u001b[0m\u001b[1;33m\u001b[0m\u001b[0m\n\u001b[0m\u001b[0;32m    502\u001b[0m \u001b[1;33m\u001b[0m\u001b[0m\n\u001b[0;32m    503\u001b[0m \u001b[1;33m\u001b[0m\u001b[0m\n",
      "\u001b[1;31mValueError\u001b[0m: could not convert string to float: 'male'"
     ]
    }
   ],
   "source": [
    "clf = tree.DecisionTreeClassifier(max_depth=5)\n",
    "clf.fit(X_train,Y_train)\n",
    "clf.score(X_test,Y_test)"
   ]
  },
  {
   "cell_type": "code",
   "execution_count": 41,
   "metadata": {},
   "outputs": [
    {
     "data": {
      "text/plain": [
       "0.8208955223880597"
      ]
     },
     "execution_count": 41,
     "metadata": {},
     "output_type": "execute_result"
    }
   ],
   "source": [
    "clf = ensemble.RandomForestClassifier(n_estimators=100)\n",
    "clf.fit (X_train, Y_train)\n",
    "clf.score (X_test, Y_test)"
   ]
  },
  {
   "cell_type": "code",
   "execution_count": 70,
   "metadata": {},
   "outputs": [
    {
     "name": "stdout",
     "output_type": "stream",
     "text": [
      "0.6666666666666666\n",
      "0.7777777777777778\n",
      "0.7407407407407407\n",
      "0.7777777777777778\n",
      "0.7333333333333333\n",
      "0.8148148148148148\n",
      "0.873015873015873\n",
      "0.8611111111111112\n",
      "0.7777777777777778\n",
      "0.8111111111111111\n",
      "0.8686868686868687\n",
      "0.8130841121495327\n",
      "0.8448275862068966\n",
      "0.768\n",
      "0.7910447761194029\n",
      "0.7972027972027972\n",
      "0.8223684210526315\n",
      "0.8322981366459627\n",
      "0.8294117647058824\n",
      "0.8324022346368715\n",
      "0.7872340425531915\n",
      "0.8121827411167513\n",
      "0.8195121951219512\n",
      "0.8878504672897196\n",
      "0.8071748878923767\n",
      "0.7974137931034483\n",
      "0.8049792531120332\n",
      "0.8\n",
      "0.8146718146718147\n",
      "0.7761194029850746\n",
      "0.8086642599277978\n",
      "0.8356643356643356\n",
      "0.8033898305084746\n",
      "0.8184818481848185\n",
      "0.8237179487179487\n",
      "0.8161993769470405\n",
      "0.8333333333333334\n",
      "0.8112094395280236\n",
      "0.7873563218390804\n",
      "0.7675070028011205\n",
      "0.7896174863387978\n",
      "0.8133333333333334\n",
      "0.8203125\n",
      "0.8091603053435115\n",
      "0.8079800498753117\n",
      "0.8073170731707318\n",
      "0.8138424821002387\n",
      "0.8317757009345794\n",
      "0.7803203661327232\n",
      "0.8116591928251121\n",
      "0.7978021978021979\n",
      "0.7866379310344828\n",
      "0.7906976744186046\n",
      "0.8112033195020747\n",
      "0.8004073319755601\n",
      "0.8016032064128257\n",
      "0.7952755905511811\n",
      "0.7794970986460348\n",
      "0.811787072243346\n",
      "0.805607476635514\n",
      "0.7867647058823529\n",
      "0.810126582278481\n",
      "0.8149466192170819\n",
      "0.8021015761821366\n",
      "0.7775862068965518\n",
      "0.7928692699490663\n",
      "0.7889447236180904\n",
      "0.7920792079207921\n",
      "0.7658536585365854\n",
      "0.7644230769230769\n",
      "0.7725118483412322\n",
      "0.7710280373831776\n",
      "0.7910906298003072\n",
      "0.7833333333333333\n",
      "0.7922272047832586\n",
      "0.8023598820058997\n",
      "0.7874818049490538\n",
      "0.7884892086330936\n",
      "0.7769886363636364\n",
      "0.7938288920056101\n",
      "0.7770083102493075\n",
      "0.7633378932968536\n",
      "0.7608108108108108\n",
      "0.7316421895861148\n",
      "0.7467018469656992\n",
      "0.7614080834419817\n",
      "0.7641752577319587\n",
      "0.7452229299363057\n",
      "0.7288776796973518\n",
      "0.7581047381546134\n",
      "0.7669543773119606\n",
      "0.7865853658536586\n",
      "0.7189384800965019\n",
      "0.6909307875894988\n",
      "0.71900826446281\n",
      "0.647196261682243\n",
      "0.7132947976878613\n"
     ]
    }
   ],
   "source": [
    "t = 0.01\n",
    "s = 0.0\n",
    "temp = []\n",
    "temp1 = []\n",
    "while s < .90:\n",
    "    X_train,X_test,Y_train,Y_test = sklearn.model_selection.train_test_split(x,y,test_size=t)\n",
    "    clf = ensemble.GradientBoostingClassifier()\n",
    "    clf.fit (X_train, Y_train)\n",
    "    s =clf.score (X_test, Y_test)\n",
    "    temp.append(t)\n",
    "    temp1.append(s)\n",
    "    if(t > 0.98):\n",
    "        break\n",
    "    t +=.01\n",
    "    print(s)"
   ]
  },
  {
   "cell_type": "code",
   "execution_count": 68,
   "metadata": {},
   "outputs": [
    {
     "ename": "AttributeError",
     "evalue": "'list' object has no attribute 'plot'",
     "output_type": "error",
     "traceback": [
      "\u001b[1;31m---------------------------------------------------------------------------\u001b[0m",
      "\u001b[1;31mAttributeError\u001b[0m                            Traceback (most recent call last)",
      "\u001b[1;32m<ipython-input-68-86912bfe6002>\u001b[0m in \u001b[0;36m<module>\u001b[1;34m\u001b[0m\n\u001b[1;32m----> 1\u001b[1;33m \u001b[0mtemp\u001b[0m\u001b[1;33m.\u001b[0m\u001b[0mplot\u001b[0m\u001b[1;33m(\u001b[0m\u001b[1;33m)\u001b[0m\u001b[1;33m\u001b[0m\u001b[1;33m\u001b[0m\u001b[0m\n\u001b[0m",
      "\u001b[1;31mAttributeError\u001b[0m: 'list' object has no attribute 'plot'"
     ]
    }
   ],
   "source": []
  },
  {
   "cell_type": "code",
   "execution_count": 56,
   "metadata": {},
   "outputs": [
    {
     "data": {
      "text/plain": [
       "[[[0.01,\n",
       "   0.02,\n",
       "   0.03,\n",
       "   0.04,\n",
       "   0.05,\n",
       "   0.060000000000000005,\n",
       "   0.07,\n",
       "   0.08,\n",
       "   0.09,\n",
       "   0.09999999999999999,\n",
       "   0.10999999999999999,\n",
       "   0.11999999999999998,\n",
       "   0.12999999999999998,\n",
       "   0.13999999999999999,\n",
       "   0.15,\n",
       "   0.16,\n",
       "   0.17,\n",
       "   0.18000000000000002,\n",
       "   0.19000000000000003,\n",
       "   0.20000000000000004,\n",
       "   0.21000000000000005,\n",
       "   0.22000000000000006,\n",
       "   0.23000000000000007,\n",
       "   0.24000000000000007,\n",
       "   0.25000000000000006,\n",
       "   0.26000000000000006,\n",
       "   0.2700000000000001,\n",
       "   0.2800000000000001,\n",
       "   0.2900000000000001,\n",
       "   0.3000000000000001,\n",
       "   0.3100000000000001,\n",
       "   0.3200000000000001,\n",
       "   0.3300000000000001,\n",
       "   0.34000000000000014,\n",
       "   0.35000000000000014,\n",
       "   0.36000000000000015,\n",
       "   0.37000000000000016,\n",
       "   0.38000000000000017,\n",
       "   0.3900000000000002,\n",
       "   0.4000000000000002,\n",
       "   0.4100000000000002,\n",
       "   0.4200000000000002,\n",
       "   0.4300000000000002,\n",
       "   0.4400000000000002,\n",
       "   0.45000000000000023,\n",
       "   0.46000000000000024,\n",
       "   0.47000000000000025,\n",
       "   0.48000000000000026,\n",
       "   0.49000000000000027,\n",
       "   0.5000000000000002,\n",
       "   0.5100000000000002,\n",
       "   0.5200000000000002,\n",
       "   0.5300000000000002,\n",
       "   0.5400000000000003,\n",
       "   0.5500000000000003,\n",
       "   0.5600000000000003,\n",
       "   0.5700000000000003,\n",
       "   0.5800000000000003,\n",
       "   0.5900000000000003,\n",
       "   0.6000000000000003,\n",
       "   0.6100000000000003,\n",
       "   0.6200000000000003,\n",
       "   0.6300000000000003,\n",
       "   0.6400000000000003,\n",
       "   0.6500000000000004,\n",
       "   0.6600000000000004,\n",
       "   0.6700000000000004,\n",
       "   0.6800000000000004,\n",
       "   0.6900000000000004,\n",
       "   0.7000000000000004,\n",
       "   0.7100000000000004,\n",
       "   0.7200000000000004,\n",
       "   0.7300000000000004,\n",
       "   0.7400000000000004,\n",
       "   0.7500000000000004,\n",
       "   0.7600000000000005,\n",
       "   0.7700000000000005,\n",
       "   0.7800000000000005,\n",
       "   0.7900000000000005,\n",
       "   0.8000000000000005,\n",
       "   0.8100000000000005,\n",
       "   0.8200000000000005,\n",
       "   0.8300000000000005,\n",
       "   0.8400000000000005,\n",
       "   0.8500000000000005,\n",
       "   0.8600000000000005,\n",
       "   0.8700000000000006,\n",
       "   0.8800000000000006,\n",
       "   0.8900000000000006,\n",
       "   0.9000000000000006,\n",
       "   0.9100000000000006,\n",
       "   0.9200000000000006,\n",
       "   0.9300000000000006,\n",
       "   0.9400000000000006,\n",
       "   0.9500000000000006,\n",
       "   0.9600000000000006,\n",
       "   0.9700000000000006,\n",
       "   0.9800000000000006,\n",
       "   0.9900000000000007],\n",
       "  [0.6666666666666666,\n",
       "   0.7222222222222222,\n",
       "   0.8148148148148148,\n",
       "   0.8611111111111112,\n",
       "   0.8222222222222222,\n",
       "   0.8518518518518519,\n",
       "   0.7619047619047619,\n",
       "   0.7916666666666666,\n",
       "   0.7777777777777778,\n",
       "   0.8555555555555555,\n",
       "   0.797979797979798,\n",
       "   0.7757009345794392,\n",
       "   0.8275862068965517,\n",
       "   0.808,\n",
       "   0.835820895522388,\n",
       "   0.8111888111888111,\n",
       "   0.8223684210526315,\n",
       "   0.84472049689441,\n",
       "   0.8235294117647058,\n",
       "   0.776536312849162,\n",
       "   0.7978723404255319,\n",
       "   0.8071065989847716,\n",
       "   0.8,\n",
       "   0.7897196261682243,\n",
       "   0.7892376681614349,\n",
       "   0.7974137931034483,\n",
       "   0.7634854771784232,\n",
       "   0.8,\n",
       "   0.7992277992277992,\n",
       "   0.8283582089552238,\n",
       "   0.8231046931407943,\n",
       "   0.7937062937062938,\n",
       "   0.8338983050847457,\n",
       "   0.7788778877887789,\n",
       "   0.7884615384615384,\n",
       "   0.8193146417445483,\n",
       "   0.8242424242424242,\n",
       "   0.8289085545722714,\n",
       "   0.8132183908045977,\n",
       "   0.8067226890756303,\n",
       "   0.8005464480874317,\n",
       "   0.792,\n",
       "   0.8072916666666666,\n",
       "   0.7888040712468194,\n",
       "   0.8054862842892768,\n",
       "   0.751219512195122,\n",
       "   0.8066825775656324,\n",
       "   0.7990654205607477,\n",
       "   0.7757437070938215,\n",
       "   0.7847533632286996,\n",
       "   0.7846153846153846,\n",
       "   0.7543103448275862,\n",
       "   0.8054968287526427,\n",
       "   0.7863070539419087,\n",
       "   0.8065173116089613,\n",
       "   0.7915831663326653,\n",
       "   0.7893700787401575,\n",
       "   0.7659574468085106,\n",
       "   0.8041825095057035,\n",
       "   0.8018691588785046,\n",
       "   0.7886029411764706,\n",
       "   0.786618444846293,\n",
       "   0.8149466192170819,\n",
       "   0.8056042031523643,\n",
       "   0.803448275862069,\n",
       "   0.8081494057724957,\n",
       "   0.8040201005025126,\n",
       "   0.7904290429042904,\n",
       "   0.7886178861788617,\n",
       "   0.7660256410256411,\n",
       "   0.7535545023696683,\n",
       "   0.8130841121495327,\n",
       "   0.7864823348694316,\n",
       "   0.8121212121212121,\n",
       "   0.7757847533632287,\n",
       "   0.7846607669616519,\n",
       "   0.7787481804949054,\n",
       "   0.7798561151079136,\n",
       "   0.7982954545454546,\n",
       "   0.8036465638148668,\n",
       "   0.7853185595567868,\n",
       "   0.7674418604651163,\n",
       "   0.7743243243243243,\n",
       "   0.7690253671562083,\n",
       "   0.7282321899736148,\n",
       "   0.7640156453715776,\n",
       "   0.7319587628865979,\n",
       "   0.7286624203821656,\n",
       "   0.742749054224464,\n",
       "   0.770573566084788,\n",
       "   0.7780517879161529,\n",
       "   0.774390243902439,\n",
       "   0.7683956574185766,\n",
       "   0.7458233890214797,\n",
       "   0.6658795749704841,\n",
       "   0.6413551401869159,\n",
       "   0.7052023121387283,\n",
       "   0.6750572082379863,\n",
       "   0.6421291053227633]]]"
      ]
     },
     "execution_count": 56,
     "metadata": {},
     "output_type": "execute_result"
    }
   ],
   "source": [
    "data"
   ]
  },
  {
   "cell_type": "code",
   "execution_count": null,
   "metadata": {},
   "outputs": [],
   "source": []
  }
 ],
 "metadata": {
  "kernelspec": {
   "display_name": "Python 3",
   "language": "python",
   "name": "python3"
  },
  "language_info": {
   "codemirror_mode": {
    "name": "ipython",
    "version": 3
   },
   "file_extension": ".py",
   "mimetype": "text/x-python",
   "name": "python",
   "nbconvert_exporter": "python",
   "pygments_lexer": "ipython3",
   "version": "3.7.1"
  }
 },
 "nbformat": 4,
 "nbformat_minor": 2
}
