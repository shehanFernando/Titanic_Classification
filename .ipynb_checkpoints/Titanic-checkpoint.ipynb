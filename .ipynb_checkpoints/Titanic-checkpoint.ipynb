{
 "cells": [
  {
   "cell_type": "code",
   "execution_count": 1,
   "metadata": {},
   "outputs": [],
   "source": [
    "import pandas as pd\n",
    "import numpy as np\n",
    "import matplotlib.pyplot as plt\n",
    "import seaborn as sns\n",
    "from sklearn.model_selection import *\n",
    "import sklearn\n",
    "from sklearn import metrics\n",
    "from sklearn import tree\n",
    "from sklearn import ensemble\n",
    "from sklearn import preprocessing\n",
    "sns.set()"
   ]
  },
  {
   "cell_type": "markdown",
   "metadata": {},
   "source": [
    "## Data Import "
   ]
  },
  {
   "cell_type": "code",
   "execution_count": 28,
   "metadata": {},
   "outputs": [],
   "source": [
    "train = pd.read_csv(\"train.csv\")\n",
    "test = pd.read_csv(\"test.csv\")\n",
    "col = train.columns"
   ]
  },
  {
   "cell_type": "code",
   "execution_count": 3,
   "metadata": {},
   "outputs": [
    {
     "name": "stdout",
     "output_type": "stream",
     "text": [
      "<class 'pandas.core.frame.DataFrame'>\n",
      "RangeIndex: 891 entries, 0 to 890\n",
      "Data columns (total 12 columns):\n",
      "PassengerId    891 non-null int64\n",
      "Survived       891 non-null int64\n",
      "Pclass         891 non-null int64\n",
      "Name           891 non-null object\n",
      "Sex            891 non-null object\n",
      "Age            714 non-null float64\n",
      "SibSp          891 non-null int64\n",
      "Parch          891 non-null int64\n",
      "Ticket         891 non-null object\n",
      "Fare           891 non-null float64\n",
      "Cabin          204 non-null object\n",
      "Embarked       889 non-null object\n",
      "dtypes: float64(2), int64(5), object(5)\n",
      "memory usage: 83.6+ KB\n"
     ]
    }
   ],
   "source": [
    "#Data information\n",
    "train.info()"
   ]
  },
  {
   "cell_type": "code",
   "execution_count": 4,
   "metadata": {},
   "outputs": [
    {
     "name": "stdout",
     "output_type": "stream",
     "text": [
      "🞇 index: 0  column name: PassengerId\n",
      "🞇 index: 1  column name: Survived\n",
      "🞇 index: 2  column name: Pclass\n",
      "🞇 index: 3  column name: Name\n",
      "🞇 index: 4  column name: Sex\n",
      "🞇 index: 5  column name: Age\n",
      "🞇 index: 6  column name: SibSp\n",
      "🞇 index: 7  column name: Parch\n",
      "🞇 index: 8  column name: Ticket\n",
      "🞇 index: 9  column name: Fare\n",
      "🞇 index: 10  column name: Cabin\n",
      "🞇 index: 11  column name: Embarked\n"
     ]
    }
   ],
   "source": [
    "f=128903 #bullet styling\n",
    "col # Colum names\n",
    "for i, n in enumerate(col):\n",
    "    print(\"{:c} index: {}  column name: {}\".format(f,i,n))"
   ]
  },
  {
   "cell_type": "markdown",
   "metadata": {},
   "source": [
    "## Preprocessing:"
   ]
  },
  {
   "cell_type": "code",
   "execution_count": 5,
   "metadata": {},
   "outputs": [
    {
     "name": "stdout",
     "output_type": "stream",
     "text": [
      "🞇 Convert string values to numeric\n",
      "🞇 Handling Data\n",
      "🞇 Remove cols that do not contribute: Name, Cabin, Ticket and ?\n",
      "🞇 Missing data: Age, Cabin, Embarked\n"
     ]
    }
   ],
   "source": [
    "def toDoPrint(List,f):\n",
    "    str =\"\"\n",
    "    temp = \"\"\n",
    "    for i in List:\n",
    "        temp =\"{:c} {}\".format(f,i)\n",
    "        print(temp)\n",
    "        str += temp + \"\\n\"\n",
    "    return str\n",
    "        \n",
    "        \n",
    "        \n",
    "Todo = {\"Missing data: Age, Cabin, Embarked\",\n",
    "        \"Handling Data\",\"Convert string values to numeric\", \n",
    "        \"Remove cols that do not contribute: Name, Cabin, Ticket and ?\"\n",
    "    }\n",
    "\n",
    "todo_list = toDoPrint(Todo,f)"
   ]
  },
  {
   "cell_type": "code",
   "execution_count": 6,
   "metadata": {},
   "outputs": [],
   "source": [
    "def sexRatio(data):\n",
    "    \"\"\"m = male \n",
    "       f = female\n",
    "       t = Total\n",
    "       return an array [men%, female%, Total]\n",
    "    \"\"\"\n",
    "    m=data.Sex[train.Sex==\"male\"].count()\n",
    "    f=data.Sex[train.Sex==\"female\"].count()\n",
    "    t=m+f\n",
    "    return [m/t*100,f/t*100,t]"
   ]
  },
  {
   "cell_type": "code",
   "execution_count": 7,
   "metadata": {},
   "outputs": [],
   "source": [
    "def sumList(a,b):\n",
    "    \"\"\"return corresponding sum of each elements\"\"\"\n",
    "    length = len(a)\n",
    "    if(length != len(b)):\n",
    "        print(\"A and B are not the same length\")\n",
    "        return []\n",
    "    \n",
    "    sum_v =[]\n",
    "    for i in range(0,length):\n",
    "        sum_v.append(a[i]+b[i])\n",
    "        \n",
    "    return sum_v"
   ]
  },
  {
   "cell_type": "code",
   "execution_count": 8,
   "metadata": {},
   "outputs": [],
   "source": [
    "def pieChart(data, data1=[], both=False):\n",
    "  \n",
    "    \n",
    "    if(both):\n",
    "        ratio = sumList(sexRatio(data),sexRatio(data1))\n",
    "    else:\n",
    "        ratio = sexRatio(data)\n",
    "    \n",
    "    labels = 'Male', 'Female'\n",
    "    sizes = [ratio[0], ratio[1]]\n",
    "    \n",
    "\n",
    "    fig1, ax1 = plt.subplots()\n",
    "    ax1.pie(sizes,labels=labels, autopct='%1.1f%%',\n",
    "            shadow=True, startangle=90)\n",
    "    \n",
    "\n",
    "    plt.show()"
   ]
  },
  {
   "cell_type": "code",
   "execution_count": 9,
   "metadata": {},
   "outputs": [
    {
     "data": {
      "image/png": "[encoded data removed]",
      "text/plain": [
       "<Figure size 432x288 with 1 Axes>"
      ]
     },
     "metadata": {},
     "output_type": "display_data"
    }
   ],
   "source": [
    "pieChart(train,test,both=True)"
   ]
  },
  {
   "cell_type": "markdown",
   "metadata": {},
   "source": [
    "## Missing data:"
   ]
  },
  {
   "cell_type": "code",
   "execution_count": 10,
   "metadata": {},
   "outputs": [],
   "source": [
    "def numerOfMissingValues(p, col, get_data = False):\n",
    "    \"\"\"numerOfMissingValues(pd, col, get_data = False)\n",
    "       p: DataFrame\n",
    "       col: column that needs to find the missing values\n",
    "\n",
    "       Returns the total number of missing data\n",
    "       return the pandas DatFrame of values if get_data is set to True\n",
    "    \"\"\"\n",
    "    data = p[pd.isnull(p[col])]\n",
    "    if get_data:\n",
    "        return data\n",
    "    else: \n",
    "        return len(data)"
   ]
  },
  {
   "cell_type": "code",
   "execution_count": 11,
   "metadata": {},
   "outputs": [
    {
     "name": "stdout",
     "output_type": "stream",
     "text": [
      "🞇 Number of values missing in Age is: 177\n",
      "🞇 Number of values missing in Cabin is: 687\n",
      "🞇 Number of values missing in Embarked is: 2\n"
     ]
    }
   ],
   "source": [
    "# As shown on info there are 891 rows of data\n",
    "\n",
    "missing =['Age', 'Cabin','Embarked']\n",
    "for i in missing:\n",
    "    print(\"{:c} Number of values missing in {} is: {}\".format(f,i,numerOfMissingValues(train,i)))\n",
    "    "
   ]
  },
  {
   "cell_type": "markdown",
   "metadata": {},
   "source": [
    "***As shown above there are 177 missing values in Age, Cabin and Embarked**"
   ]
  },
  {
   "cell_type": "markdown",
   "metadata": {},
   "source": [
    "### Handling Missing Data"
   ]
  },
  {
   "cell_type": "code",
   "execution_count": 12,
   "metadata": {},
   "outputs": [],
   "source": [
    "def handling(df):\n",
    "    #Age: interpolate the missing data\n",
    "    df['Age'] = df['Age'].interpolate()\n",
    "    #Drop 'Name','Ticket','Cabin' because it is nor relavant to the model\n",
    "    cols = ['Name','Ticket','Cabin']\n",
    "    df = df.drop(cols,axis=1)\n",
    "    \n",
    "    dummies = []\n",
    "    cols = ['Pclass','Sex','Embarked']\n",
    "    for col in cols:\n",
    "        dummies.append(pd.get_dummies(df[col]))\n",
    "        \n",
    "    titanic_dummies = pd.concat(dummies, axis=1)\n",
    "    \n",
    "    df = pd.concat((df,titanic_dummies),axis=1)\n",
    "    \n",
    "    #dropping the redundant values\n",
    "    df = df.drop(['Pclass','Sex','Embarked'],axis=1)\n",
    "    \n",
    "    return df"
   ]
  },
  {
   "cell_type": "markdown",
   "metadata": {},
   "source": [
    "## Choosing the Model:"
   ]
  },
  {
   "cell_type": "code",
   "execution_count": 13,
   "metadata": {},
   "outputs": [],
   "source": [
    "\n",
    "df = handling(train)\n",
    "x = df.values\n",
    "y = df['Survived'].values\n",
    "x = np.delete(x,1,axis=1)"
   ]
  },
  {
   "cell_type": "code",
   "execution_count": 14,
   "metadata": {},
   "outputs": [],
   "source": [
    "X_train,X_test,Y_train,Y_test = sklearn.model_selection.train_test_split(x,y,test_size=.4,shuffle=True)"
   ]
  },
  {
   "cell_type": "markdown",
   "metadata": {},
   "source": [
    "### Decision Tree:"
   ]
  },
  {
   "cell_type": "code",
   "execution_count": 15,
   "metadata": {},
   "outputs": [
    {
     "data": {
      "text/plain": [
       "0.7058823529411765"
      ]
     },
     "execution_count": 15,
     "metadata": {},
     "output_type": "execute_result"
    }
   ],
   "source": [
    "dt = tree.DecisionTreeClassifier(max_depth=55)\n",
    "dt.fit(X_train,Y_train)\n",
    "dt.score(X_test,Y_test)\n",
    "\n",
    "dt.score (X_test, Y_test)"
   ]
  },
  {
   "cell_type": "markdown",
   "metadata": {},
   "source": [
    "### RandomForestClassifier:"
   ]
  },
  {
   "cell_type": "code",
   "execution_count": 16,
   "metadata": {},
   "outputs": [
    {
     "data": {
      "text/plain": [
       "0.7871148459383753"
      ]
     },
     "execution_count": 16,
     "metadata": {},
     "output_type": "execute_result"
    }
   ],
   "source": [
    "RFC = ensemble.RandomForestClassifier(n_estimators=54)\n",
    "RFC.fit (X_train, Y_train)\n",
    "RFC.score (X_test, Y_test)"
   ]
  },
  {
   "cell_type": "markdown",
   "metadata": {},
   "source": [
    "### GradientBoostingClassifier:"
   ]
  },
  {
   "cell_type": "code",
   "execution_count": 17,
   "metadata": {},
   "outputs": [
    {
     "data": {
      "text/plain": [
       "0.773109243697479"
      ]
     },
     "execution_count": 17,
     "metadata": {},
     "output_type": "execute_result"
    }
   ],
   "source": [
    "GBC = ensemble.GradientBoostingClassifier(n_estimators=100)\n",
    "GBC.fit (X_train, Y_train)\n",
    "GBC.score (X_test, Y_test)"
   ]
  },
  {
   "cell_type": "markdown",
   "metadata": {},
   "source": [
    "### Naive Bayes:"
   ]
  },
  {
   "cell_type": "code",
   "execution_count": 18,
   "metadata": {},
   "outputs": [
    {
     "data": {
      "text/plain": [
       "0.7927170868347339"
      ]
     },
     "execution_count": 18,
     "metadata": {},
     "output_type": "execute_result"
    }
   ],
   "source": [
    "from sklearn.naive_bayes import GaussianNB\n",
    "NB = GaussianNB()\n",
    "NB.fit(x, y)\n",
    "NB.score (X_test, Y_test)"
   ]
  },
  {
   "cell_type": "markdown",
   "metadata": {},
   "source": [
    "### KNN:"
   ]
  },
  {
   "cell_type": "code",
   "execution_count": 19,
   "metadata": {
    "scrolled": true
   },
   "outputs": [
    {
     "data": {
      "text/plain": [
       "0.8095238095238095"
      ]
     },
     "execution_count": 19,
     "metadata": {},
     "output_type": "execute_result"
    }
   ],
   "source": [
    "from sklearn.neighbors import KNeighborsClassifier\n",
    "\n",
    "neigh = KNeighborsClassifier(n_neighbors=3)\n",
    "neigh.fit(x, y)\n",
    "neigh.score (X_test, Y_test)"
   ]
  },
  {
   "cell_type": "code",
   "execution_count": null,
   "metadata": {},
   "outputs": [],
   "source": []
  }
 ],
 "metadata": {
  "kernelspec": {
   "display_name": "Python 3",
   "language": "python",
   "name": "python3"
  },
  "language_info": {
   "codemirror_mode": {
    "name": "ipython",
    "version": 3
   },
   "file_extension": ".py",
   "mimetype": "text/x-python",
   "name": "python",
   "nbconvert_exporter": "python",
   "pygments_lexer": "ipython3",
   "version": "3.7.1"
  }
 },
 "nbformat": 4,
 "nbformat_minor": 2
}
