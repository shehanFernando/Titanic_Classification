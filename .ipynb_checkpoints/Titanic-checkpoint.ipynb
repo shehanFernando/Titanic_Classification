{
  "cells": [
    {
      "metadata": {
        "trusted": true
      },
      "cell_type": "code",
      "source": "import pandas as pd\nimport numpy as np\nimport matplotlib.pyplot as plt\nimport seaborn as sns\nsns.set()",
      "execution_count": 1,
      "outputs": []
    },
    {
      "metadata": {},
      "cell_type": "markdown",
      "source": "## Data Import "
    },
    {
      "metadata": {
        "trusted": true
      },
      "cell_type": "code",
      "source": "train = pd.read_csv(\"train.csv\")\ntest = pd.read_csv(\"test.csv\")\ngender = pd.read_csv(\"gender_submission.csv\")\ncol = train.columns",
      "execution_count": 2,
      "outputs": []
    },
    {
      "metadata": {
        "trusted": true
      },
      "cell_type": "code",
      "source": "#Data information\ntrain.info()",
      "execution_count": 3,
      "outputs": [
        {
          "output_type": "stream",
          "text": "<class 'pandas.core.frame.DataFrame'>\nRangeIndex: 891 entries, 0 to 890\nData columns (total 12 columns):\nPassengerId    891 non-null int64\nSurvived       891 non-null int64\nPclass         891 non-null int64\nName           891 non-null object\nSex            891 non-null object\nAge            714 non-null float64\nSibSp          891 non-null int64\nParch          891 non-null int64\nTicket         891 non-null object\nFare           891 non-null float64\nCabin          204 non-null object\nEmbarked       889 non-null object\ndtypes: float64(2), int64(5), object(5)\nmemory usage: 83.6+ KB\n",
          "name": "stdout"
        }
      ]
    },
    {
      "metadata": {
        "trusted": true
      },
      "cell_type": "code",
      "source": "f=128903 #bullet styling\ncol # Colum names\nfor i, n in enumerate(col):\n    print(\"{:c} index: {}  column name: {}\".format(f,i,n))",
      "execution_count": 4,
      "outputs": [
        {
          "output_type": "stream",
          "text": "🞇 index: 0  column name: PassengerId\n🞇 index: 1  column name: Survived\n🞇 index: 2  column name: Pclass\n🞇 index: 3  column name: Name\n🞇 index: 4  column name: Sex\n🞇 index: 5  column name: Age\n🞇 index: 6  column name: SibSp\n🞇 index: 7  column name: Parch\n🞇 index: 8  column name: Ticket\n🞇 index: 9  column name: Fare\n🞇 index: 10  column name: Cabin\n🞇 index: 11  column name: Embarked\n",
          "name": "stdout"
        }
      ]
    },
    {
      "metadata": {},
      "cell_type": "markdown",
      "source": "## Preprocessing:"
    },
    {
      "metadata": {
        "trusted": true
      },
      "cell_type": "code",
      "source": "def toDoPrint(List,f):\n    str =\"\"\n    temp = \"\"\n    for i in List:\n        temp =\"{:c} {}\".format(f,i)\n        print(temp)\n        str += temp + \"\\n\"\n    return str\n        \n        \n        \nTodo = {\"Missing data: Age, Cabin, Embarked\",\n        \"Handling Data\",\"Convert string values to numeric\", \n        \"Remove cols that do not contribute: Name, Cabin, Ticket and ?\"\n    }\n\ntodo_list = toDoPrint(Todo,f)",
      "execution_count": 18,
      "outputs": [
        {
          "output_type": "stream",
          "text": "🞇 Handling Data\n🞇 Convert string values to numeric\n🞇 Remove cols that do not contribute: Name, Cabin, Ticket and ?\n🞇 Missing data: Age, Cabin, Embarked\n",
          "name": "stdout"
        }
      ]
    },
    {
      "metadata": {},
      "cell_type": "markdown",
      "source": "## Missing data:"
    },
    {
      "metadata": {
        "trusted": true
      },
      "cell_type": "code",
      "source": "def numerOfMissingValues(p, col, get_data = False):\n    \"\"\"numerOfMissingValues(pd, col, get_data = False)\n       p: DataFrame\n       col: column that needs to find the missing values\n\n       Returns the total number of missing data\n       return the pandas DatFrame of values if get_data is set to True\n    \"\"\"\n    data = p[pd.isnull(p[col])]\n    if get_data:\n        return data\n    else: \n        return len(data)",
      "execution_count": 6,
      "outputs": []
    },
    {
      "metadata": {
        "trusted": true
      },
      "cell_type": "code",
      "source": "# As shown on info there are 891 rows of data\n\nmissing =['Age', 'Cabin','Embarked']\nfor i in missing:\n    print(\"{:c} Number of values missing in {} is: {}\".format(f,i,numerOfMissingValues(train,i)))\n    ",
      "execution_count": 7,
      "outputs": [
        {
          "output_type": "stream",
          "text": "🞇 Number of values missing in Age is: 177\n🞇 Number of values missing in Cabin is: 687\n🞇 Number of values missing in Embarked is: 2\n",
          "name": "stdout"
        }
      ]
    },
    {
      "metadata": {},
      "cell_type": "markdown",
      "source": "***As shown above there are 177 missing values in Age, Cabin and Embarked**"
    },
    {
      "metadata": {},
      "cell_type": "markdown",
      "source": "### Handling Missing Data"
    },
    {
      "metadata": {
        "trusted": true
      },
      "cell_type": "code",
      "source": "#Age: interpolate the missing data\ntrain['Age'] = train['Age'].interpolate()\n#Drop because it is nor relavant to the model\ntrain = train.drop(['Pclass','Sex','Embarked'],axis=1)",
      "execution_count": 22,
      "outputs": []
    },
    {
      "metadata": {
        "trusted": true
      },
      "cell_type": "code",
      "source": "train.columns",
      "execution_count": 23,
      "outputs": [
        {
          "output_type": "execute_result",
          "execution_count": 23,
          "data": {
            "text/plain": "Index(['PassengerId', 'Survived', 'Name', 'Age', 'SibSp', 'Parch', 'Ticket',\n       'Fare', 'Cabin'],\n      dtype='object')"
          },
          "metadata": {}
        }
      ]
    },
    {
      "metadata": {
        "trusted": true
      },
      "cell_type": "code",
      "source": "print(todo_list)",
      "execution_count": 21,
      "outputs": [
        {
          "output_type": "stream",
          "text": "🞇 Handling Data\n🞇 Convert string values to numeric\n🞇 Remove cols that do not contribute: Name, Cabin, Ticket and ?\n🞇 Missing data: Age, Cabin, Embarked\n\n",
          "name": "stdout"
        }
      ]
    },
    {
      "metadata": {
        "trusted": true
      },
      "cell_type": "code",
      "source": "GenderVsSurvived = train[['Survived','Sex']]\nGenderVsSurvived.head()",
      "execution_count": 10,
      "outputs": [
        {
          "output_type": "execute_result",
          "execution_count": 10,
          "data": {
            "text/html": "<div>\n<style scoped>\n    .dataframe tbody tr th:only-of-type {\n        vertical-align: middle;\n    }\n\n    .dataframe tbody tr th {\n        vertical-align: top;\n    }\n\n    .dataframe thead th {\n        text-align: right;\n    }\n</style>\n<table border=\"1\" class=\"dataframe\">\n  <thead>\n    <tr style=\"text-align: right;\">\n      <th></th>\n      <th>Survived</th>\n      <th>Sex</th>\n    </tr>\n  </thead>\n  <tbody>\n    <tr>\n      <th>0</th>\n      <td>0</td>\n      <td>male</td>\n    </tr>\n    <tr>\n      <th>1</th>\n      <td>1</td>\n      <td>female</td>\n    </tr>\n    <tr>\n      <th>2</th>\n      <td>1</td>\n      <td>female</td>\n    </tr>\n    <tr>\n      <th>3</th>\n      <td>1</td>\n      <td>female</td>\n    </tr>\n    <tr>\n      <th>4</th>\n      <td>0</td>\n      <td>male</td>\n    </tr>\n  </tbody>\n</table>\n</div>",
            "text/plain": "   Survived     Sex\n0         0    male\n1         1  female\n2         1  female\n3         1  female\n4         0    male"
          },
          "metadata": {}
        }
      ]
    },
    {
      "metadata": {
        "trusted": true
      },
      "cell_type": "code",
      "source": "def sexRatio(data):\n    \"\"\"m = male \n       f = female\n       t = Total\n       return an array [men%, female%, Total]\n    \"\"\"\n    m=data.Sex[train.Sex==\"male\"].count()\n    f=data.Sex[train.Sex==\"female\"].count()\n    t=m+f\n    return [m/t*100,f/t*100,t]",
      "execution_count": 11,
      "outputs": []
    },
    {
      "metadata": {
        "trusted": true
      },
      "cell_type": "code",
      "source": "def sumList(a,b):\n    \"\"\"return corresponding sum of each elements\"\"\"\n    length = len(a)\n    if(length != len(b)):\n        print(\"A and B are not the same length\")\n        return []\n    \n    sum_v =[]\n    for i in range(0,length):\n        sum_v.append(a[i]+b[i])\n        \n    return sum_v\n    \n    \ndef pieChart(data, data1=[], both=False):\n  \n    \n    if(both):\n        ratio = sumList(sexRatio(data),sexRatio(data1))\n    else:\n        ratio = sexRatio(data)\n    \n    labels = 'Male', 'Female'\n    sizes = [ratio[0], ratio[1]]\n    \n\n    fig1, ax1 = plt.subplots()\n    ax1.pie(sizes,labels=labels, autopct='%1.1f%%',\n            shadow=True, startangle=90)\n    \n\n    plt.show()\n    \n    ",
      "execution_count": 12,
      "outputs": []
    },
    {
      "metadata": {
        "trusted": true
      },
      "cell_type": "code",
      "source": "pieChart(train,test,both=True)",
      "execution_count": 13,
      "outputs": [
        {
          "output_type": "display_data",
          "data": {
            "image/png": "[encoded data removed]",
            "text/plain": "<Figure size 432x288 with 1 Axes>"
          },
          "metadata": {}
        }
      ]
    },
    {
      "metadata": {
        "trusted": true
      },
      "cell_type": "code",
      "source": "class_p=(train.Pclass[train.Pclass==1].count(),\ntrain.Pclass[train.Pclass==2].count(),\ntrain.Pclass[train.Pclass==2].count())",
      "execution_count": 14,
      "outputs": []
    },
    {
      "metadata": {
        "trusted": true
      },
      "cell_type": "code",
      "source": "class_p",
      "execution_count": 15,
      "outputs": [
        {
          "output_type": "execute_result",
          "execution_count": 15,
          "data": {
            "text/plain": "(216, 184, 184)"
          },
          "metadata": {}
        }
      ]
    },
    {
      "metadata": {
        "trusted": true
      },
      "cell_type": "code",
      "source": "age_counts = train.Age.value_counts()\nage_counts.sort_index().plot()",
      "execution_count": 16,
      "outputs": [
        {
          "output_type": "execute_result",
          "execution_count": 16,
          "data": {
            "text/plain": "<matplotlib.axes._subplots.AxesSubplot at 0x7f8399521f60>"
          },
          "metadata": {}
        },
        {
          "output_type": "display_data",
          "data": {
            "image/png": "[encoded data removed]",
            "text/plain": "<Figure size 432x288 with 1 Axes>"
          },
          "metadata": {
            "needs_background": "light"
          }
        }
      ]
    },
    {
      "metadata": {
        "trusted": true
      },
      "cell_type": "code",
      "source": "age_counts",
      "execution_count": 17,
      "outputs": [
        {
          "output_type": "execute_result",
          "execution_count": 17,
          "data": {
            "text/plain": "24.000000    32\n30.000000    29\n22.000000    28\n18.000000    28\n19.000000    27\n28.000000    27\n36.000000    26\n26.000000    26\n21.000000    24\n27.000000    23\n25.000000    23\n29.000000    22\n33.000000    20\n35.000000    20\n16.000000    19\n31.000000    19\n34.000000    18\n23.000000    18\n32.000000    18\n39.000000    16\n20.000000    15\n42.000000    14\n17.000000    14\n38.000000    14\n40.000000    13\n50.000000    12\n45.000000    12\n48.000000    10\n4.000000     10\n47.000000    10\n             ..\n21.500000     1\n11.500000     1\n12.500000     1\n15.500000     1\n25.500000     1\n57.500000     1\n9.500000      1\n43.500000     1\n80.000000     1\n1.375000      1\n46.500000     1\n17.500000     1\n22.500000     1\n1.666667      1\n38.666667     1\n70.500000     1\n16.943333     1\n0.670000      1\n37.333333     1\n18.600000     1\n18.400000     1\n31.666667     1\n11.915000     1\n27.500000     1\n12.000000     1\n8.886667      1\n39.666667     1\n0.920000      1\n34.666667     1\n48.666667     1\nName: Age, Length: 155, dtype: int64"
          },
          "metadata": {}
        }
      ]
    },
    {
      "metadata": {
        "trusted": true
      },
      "cell_type": "code",
      "source": "",
      "execution_count": null,
      "outputs": []
    }
  ],
  "metadata": {
    "kernelspec": {
      "name": "python36",
      "display_name": "Python 3.6",
      "language": "python"
    },
    "language_info": {
      "mimetype": "text/x-python",
      "nbconvert_exporter": "python",
      "name": "python",
      "pygments_lexer": "ipython3",
      "version": "3.6.6",
      "file_extension": ".py",
      "codemirror_mode": {
        "version": 3,
        "name": "ipython"
      }
    }
  },
  "nbformat": 4,
  "nbformat_minor": 2
}