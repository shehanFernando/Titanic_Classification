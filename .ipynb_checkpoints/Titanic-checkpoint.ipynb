{
 "cells": [
  {
   "cell_type": "code",
   "execution_count": 1,
   "metadata": {},
   "outputs": [],
   "source": [
    "import pandas as pd\n",
    "import numpy as np\n",
    "import matplotlib.pyplot as plt\n",
    "import seaborn as sns\n",
    "sns.set()"
   ]
  },
  {
   "cell_type": "markdown",
   "metadata": {},
   "source": [
    "## Data Import "
   ]
  },
  {
   "cell_type": "code",
   "execution_count": 2,
   "metadata": {},
   "outputs": [],
   "source": [
    "train = pd.read_csv(\"train.csv\")\n",
    "test = pd.read_csv(\"test.csv\")\n",
    "gender = pd.read_csv(\"gender_submission.csv\")\n",
    "col = train.columns"
   ]
  },
  {
   "cell_type": "code",
   "execution_count": 3,
   "metadata": {},
   "outputs": [
    {
     "name": "stdout",
     "output_type": "stream",
     "text": [
      "<class 'pandas.core.frame.DataFrame'>\n",
      "RangeIndex: 891 entries, 0 to 890\n",
      "Data columns (total 12 columns):\n",
      "PassengerId    891 non-null int64\n",
      "Survived       891 non-null int64\n",
      "Pclass         891 non-null int64\n",
      "Name           891 non-null object\n",
      "Sex            891 non-null object\n",
      "Age            714 non-null float64\n",
      "SibSp          891 non-null int64\n",
      "Parch          891 non-null int64\n",
      "Ticket         891 non-null object\n",
      "Fare           891 non-null float64\n",
      "Cabin          204 non-null object\n",
      "Embarked       889 non-null object\n",
      "dtypes: float64(2), int64(5), object(5)\n",
      "memory usage: 83.6+ KB\n"
     ]
    }
   ],
   "source": [
    "#Data information\n",
    "train.info()"
   ]
  },
  {
   "cell_type": "code",
   "execution_count": 4,
   "metadata": {},
   "outputs": [
    {
     "name": "stdout",
     "output_type": "stream",
     "text": [
      "🞇 index: 0  column name: PassengerId\n",
      "🞇 index: 1  column name: Survived\n",
      "🞇 index: 2  column name: Pclass\n",
      "🞇 index: 3  column name: Name\n",
      "🞇 index: 4  column name: Sex\n",
      "🞇 index: 5  column name: Age\n",
      "🞇 index: 6  column name: SibSp\n",
      "🞇 index: 7  column name: Parch\n",
      "🞇 index: 8  column name: Ticket\n",
      "🞇 index: 9  column name: Fare\n",
      "🞇 index: 10  column name: Cabin\n",
      "🞇 index: 11  column name: Embarked\n"
     ]
    }
   ],
   "source": [
    "f=128903 #bullet styling\n",
    "col # Colum names\n",
    "for i, n in enumerate(col):\n",
    "    print(\"{:c} index: {}  column name: {}\".format(f,i,n))"
   ]
  },
  {
   "cell_type": "markdown",
   "metadata": {},
   "source": [
    "## Preprocessing:"
   ]
  },
  {
   "cell_type": "code",
   "execution_count": 5,
   "metadata": {},
   "outputs": [
    {
     "name": "stdout",
     "output_type": "stream",
     "text": [
      "🞇 Convert string values to numeric\n",
      "🞇 Handling Data\n",
      "🞇 Remove cols that do not contribute: Name, Cabin, Ticket and ?\n",
      "🞇 Missing data: Age, Cabin, Embarked\n"
     ]
    }
   ],
   "source": [
    "def toDoPrint(List,f):\n",
    "    str =\"\"\n",
    "    temp = \"\"\n",
    "    for i in List:\n",
    "        temp =\"{:c} {}\".format(f,i)\n",
    "        print(temp)\n",
    "        str += temp + \"\\n\"\n",
    "    return str\n",
    "        \n",
    "        \n",
    "        \n",
    "Todo = {\"Missing data: Age, Cabin, Embarked\",\n",
    "        \"Handling Data\",\"Convert string values to numeric\", \n",
    "        \"Remove cols that do not contribute: Name, Cabin, Ticket and ?\"\n",
    "    }\n",
    "\n",
    "todo_list = toDoPrint(Todo,f)"
   ]
  },
  {
   "cell_type": "markdown",
   "metadata": {},
   "source": [
    "## Missing data:"
   ]
  },
  {
   "cell_type": "code",
   "execution_count": 6,
   "metadata": {},
   "outputs": [],
   "source": [
    "def numerOfMissingValues(p, col, get_data = False):\n",
    "    \"\"\"numerOfMissingValues(pd, col, get_data = False)\n",
    "       p: DataFrame\n",
    "       col: column that needs to find the missing values\n",
    "\n",
    "       Returns the total number of missing data\n",
    "       return the pandas DatFrame of values if get_data is set to True\n",
    "    \"\"\"\n",
    "    data = p[pd.isnull(p[col])]\n",
    "    if get_data:\n",
    "        return data\n",
    "    else: \n",
    "        return len(data)"
   ]
  },
  {
   "cell_type": "code",
   "execution_count": 7,
   "metadata": {},
   "outputs": [
    {
     "name": "stdout",
     "output_type": "stream",
     "text": [
      "🞇 Number of values missing in Age is: 177\n",
      "🞇 Number of values missing in Cabin is: 687\n",
      "🞇 Number of values missing in Embarked is: 2\n"
     ]
    }
   ],
   "source": [
    "# As shown on info there are 891 rows of data\n",
    "\n",
    "missing =['Age', 'Cabin','Embarked']\n",
    "for i in missing:\n",
    "    print(\"{:c} Number of values missing in {} is: {}\".format(f,i,numerOfMissingValues(train,i)))\n",
    "    "
   ]
  },
  {
   "cell_type": "markdown",
   "metadata": {},
   "source": [
    "***As shown above there are 177 missing values in Age, Cabin and Embarked**"
   ]
  },
  {
   "cell_type": "markdown",
   "metadata": {},
   "source": [
    "### Handling Missing Data"
   ]
  },
  {
   "cell_type": "code",
   "execution_count": null,
   "metadata": {},
   "outputs": [],
   "source": [
    "#Age: interpolate the missing data\n",
    "train['Age'] = train['Age'].interpolate()\n",
    "#Drop 'Name','Ticket','Cabin' because it is nor relavant to the model\n",
    "cols = ['Name','Ticket','Cabin']\n",
    "train = train.drop(cols,axis=1)"
   ]
  },
  {
   "cell_type": "code",
   "execution_count": 20,
   "metadata": {},
   "outputs": [
    {
     "data": {
      "text/html": [
       "<div>\n",
       "<style scoped>\n",
       "    .dataframe tbody tr th:only-of-type {\n",
       "        vertical-align: middle;\n",
       "    }\n",
       "\n",
       "    .dataframe tbody tr th {\n",
       "        vertical-align: top;\n",
       "    }\n",
       "\n",
       "    .dataframe thead th {\n",
       "        text-align: right;\n",
       "    }\n",
       "</style>\n",
       "<table border=\"1\" class=\"dataframe\">\n",
       "  <thead>\n",
       "    <tr style=\"text-align: right;\">\n",
       "      <th></th>\n",
       "      <th>PassengerId</th>\n",
       "      <th>Survived</th>\n",
       "      <th>Pclass</th>\n",
       "      <th>Sex</th>\n",
       "      <th>Age</th>\n",
       "      <th>SibSp</th>\n",
       "      <th>Parch</th>\n",
       "      <th>Fare</th>\n",
       "      <th>Embarked</th>\n",
       "    </tr>\n",
       "  </thead>\n",
       "  <tbody>\n",
       "    <tr>\n",
       "      <th>0</th>\n",
       "      <td>1</td>\n",
       "      <td>0</td>\n",
       "      <td>3</td>\n",
       "      <td>male</td>\n",
       "      <td>22.0</td>\n",
       "      <td>1</td>\n",
       "      <td>0</td>\n",
       "      <td>7.2500</td>\n",
       "      <td>S</td>\n",
       "    </tr>\n",
       "    <tr>\n",
       "      <th>1</th>\n",
       "      <td>2</td>\n",
       "      <td>1</td>\n",
       "      <td>1</td>\n",
       "      <td>female</td>\n",
       "      <td>38.0</td>\n",
       "      <td>1</td>\n",
       "      <td>0</td>\n",
       "      <td>71.2833</td>\n",
       "      <td>C</td>\n",
       "    </tr>\n",
       "    <tr>\n",
       "      <th>2</th>\n",
       "      <td>3</td>\n",
       "      <td>1</td>\n",
       "      <td>3</td>\n",
       "      <td>female</td>\n",
       "      <td>26.0</td>\n",
       "      <td>0</td>\n",
       "      <td>0</td>\n",
       "      <td>7.9250</td>\n",
       "      <td>S</td>\n",
       "    </tr>\n",
       "    <tr>\n",
       "      <th>3</th>\n",
       "      <td>4</td>\n",
       "      <td>1</td>\n",
       "      <td>1</td>\n",
       "      <td>female</td>\n",
       "      <td>35.0</td>\n",
       "      <td>1</td>\n",
       "      <td>0</td>\n",
       "      <td>53.1000</td>\n",
       "      <td>S</td>\n",
       "    </tr>\n",
       "    <tr>\n",
       "      <th>4</th>\n",
       "      <td>5</td>\n",
       "      <td>0</td>\n",
       "      <td>3</td>\n",
       "      <td>male</td>\n",
       "      <td>35.0</td>\n",
       "      <td>0</td>\n",
       "      <td>0</td>\n",
       "      <td>8.0500</td>\n",
       "      <td>S</td>\n",
       "    </tr>\n",
       "  </tbody>\n",
       "</table>\n",
       "</div>"
      ],
      "text/plain": [
       "   PassengerId  Survived  Pclass     Sex   Age  SibSp  Parch     Fare Embarked\n",
       "0            1         0       3    male  22.0      1      0   7.2500        S\n",
       "1            2         1       1  female  38.0      1      0  71.2833        C\n",
       "2            3         1       3  female  26.0      0      0   7.9250        S\n",
       "3            4         1       1  female  35.0      1      0  53.1000        S\n",
       "4            5         0       3    male  35.0      0      0   8.0500        S"
      ]
     },
     "execution_count": 20,
     "metadata": {},
     "output_type": "execute_result"
    }
   ],
   "source": [
    "train.head()"
   ]
  },
  {
   "cell_type": "code",
   "execution_count": 10,
   "metadata": {},
   "outputs": [
    {
     "name": "stdout",
     "output_type": "stream",
     "text": [
      "🞇 Convert string values to numeric\n",
      "🞇 Handling Data\n",
      "🞇 Remove cols that do not contribute: Name, Cabin, Ticket and ?\n",
      "🞇 Missing data: Age, Cabin, Embarked\n",
      "\n"
     ]
    }
   ],
   "source": [
    "print(todo_list)"
   ]
  },
  {
   "cell_type": "code",
   "execution_count": 11,
   "metadata": {},
   "outputs": [
    {
     "data": {
      "text/html": [
       "<div>\n",
       "<style scoped>\n",
       "    .dataframe tbody tr th:only-of-type {\n",
       "        vertical-align: middle;\n",
       "    }\n",
       "\n",
       "    .dataframe tbody tr th {\n",
       "        vertical-align: top;\n",
       "    }\n",
       "\n",
       "    .dataframe thead th {\n",
       "        text-align: right;\n",
       "    }\n",
       "</style>\n",
       "<table border=\"1\" class=\"dataframe\">\n",
       "  <thead>\n",
       "    <tr style=\"text-align: right;\">\n",
       "      <th></th>\n",
       "      <th>Survived</th>\n",
       "      <th>Sex</th>\n",
       "    </tr>\n",
       "  </thead>\n",
       "  <tbody>\n",
       "    <tr>\n",
       "      <th>0</th>\n",
       "      <td>0</td>\n",
       "      <td>male</td>\n",
       "    </tr>\n",
       "    <tr>\n",
       "      <th>1</th>\n",
       "      <td>1</td>\n",
       "      <td>female</td>\n",
       "    </tr>\n",
       "    <tr>\n",
       "      <th>2</th>\n",
       "      <td>1</td>\n",
       "      <td>female</td>\n",
       "    </tr>\n",
       "    <tr>\n",
       "      <th>3</th>\n",
       "      <td>1</td>\n",
       "      <td>female</td>\n",
       "    </tr>\n",
       "    <tr>\n",
       "      <th>4</th>\n",
       "      <td>0</td>\n",
       "      <td>male</td>\n",
       "    </tr>\n",
       "  </tbody>\n",
       "</table>\n",
       "</div>"
      ],
      "text/plain": [
       "   Survived     Sex\n",
       "0         0    male\n",
       "1         1  female\n",
       "2         1  female\n",
       "3         1  female\n",
       "4         0    male"
      ]
     },
     "execution_count": 11,
     "metadata": {},
     "output_type": "execute_result"
    }
   ],
   "source": [
    "GenderVsSurvived = train[['Survived','Sex']]\n",
    "GenderVsSurvived.head()"
   ]
  },
  {
   "cell_type": "code",
   "execution_count": 12,
   "metadata": {},
   "outputs": [],
   "source": [
    "def sexRatio(data):\n",
    "    \"\"\"m = male \n",
    "       f = female\n",
    "       t = Total\n",
    "       return an array [men%, female%, Total]\n",
    "    \"\"\"\n",
    "    m=data.Sex[train.Sex==\"male\"].count()\n",
    "    f=data.Sex[train.Sex==\"female\"].count()\n",
    "    t=m+f\n",
    "    return [m/t*100,f/t*100,t]"
   ]
  },
  {
   "cell_type": "code",
   "execution_count": 13,
   "metadata": {},
   "outputs": [],
   "source": [
    "def sumList(a,b):\n",
    "    \"\"\"return corresponding sum of each elements\"\"\"\n",
    "    length = len(a)\n",
    "    if(length != len(b)):\n",
    "        print(\"A and B are not the same length\")\n",
    "        return []\n",
    "    \n",
    "    sum_v =[]\n",
    "    for i in range(0,length):\n",
    "        sum_v.append(a[i]+b[i])\n",
    "        \n",
    "    return sum_v\n",
    "    \n",
    "    \n",
    "def pieChart(data, data1=[], both=False):\n",
    "  \n",
    "    \n",
    "    if(both):\n",
    "        ratio = sumList(sexRatio(data),sexRatio(data1))\n",
    "    else:\n",
    "        ratio = sexRatio(data)\n",
    "    \n",
    "    labels = 'Male', 'Female'\n",
    "    sizes = [ratio[0], ratio[1]]\n",
    "    \n",
    "\n",
    "    fig1, ax1 = plt.subplots()\n",
    "    ax1.pie(sizes,labels=labels, autopct='%1.1f%%',\n",
    "            shadow=True, startangle=90)\n",
    "    \n",
    "\n",
    "    plt.show()\n",
    "    \n",
    "    "
   ]
  },
  {
   "cell_type": "code",
   "execution_count": 14,
   "metadata": {},
   "outputs": [
    {
     "data": {
      "image/png": "[encoded data removed]",
      "text/plain": [
       "<Figure size 432x288 with 1 Axes>"
      ]
     },
     "metadata": {},
     "output_type": "display_data"
    }
   ],
   "source": [
    "pieChart(train,test,both=True)"
   ]
  },
  {
   "cell_type": "code",
   "execution_count": 15,
   "metadata": {},
   "outputs": [],
   "source": [
    "class_p=(train.Pclass[train.Pclass==1].count(),\n",
    "train.Pclass[train.Pclass==2].count(),\n",
    "train.Pclass[train.Pclass==2].count())"
   ]
  },
  {
   "cell_type": "code",
   "execution_count": 16,
   "metadata": {},
   "outputs": [
    {
     "data": {
      "text/plain": [
       "(216, 184, 184)"
      ]
     },
     "execution_count": 16,
     "metadata": {},
     "output_type": "execute_result"
    }
   ],
   "source": [
    "class_p"
   ]
  },
  {
   "cell_type": "code",
   "execution_count": 17,
   "metadata": {},
   "outputs": [
    {
     "data": {
      "text/plain": [
       "<matplotlib.axes._subplots.AxesSubplot at 0x192edf95518>"
      ]
     },
     "execution_count": 17,
     "metadata": {},
     "output_type": "execute_result"
    },
    {
     "data": {
      "image/png": "[encoded data removed]",
      "text/plain": [
       "<Figure size 432x288 with 1 Axes>"
      ]
     },
     "metadata": {
      "needs_background": "light"
     },
     "output_type": "display_data"
    }
   ],
   "source": [
    "age_counts = train.Age.value_counts()\n",
    "age_counts.sort_index().plot()"
   ]
  },
  {
   "cell_type": "code",
   "execution_count": 18,
   "metadata": {},
   "outputs": [
    {
     "data": {
      "text/plain": [
       "24.000000    32\n",
       "30.000000    29\n",
       "22.000000    28\n",
       "18.000000    28\n",
       "19.000000    27\n",
       "28.000000    27\n",
       "36.000000    26\n",
       "26.000000    26\n",
       "21.000000    24\n",
       "27.000000    23\n",
       "25.000000    23\n",
       "29.000000    22\n",
       "33.000000    20\n",
       "35.000000    20\n",
       "16.000000    19\n",
       "31.000000    19\n",
       "34.000000    18\n",
       "23.000000    18\n",
       "32.000000    18\n",
       "39.000000    16\n",
       "20.000000    15\n",
       "42.000000    14\n",
       "17.000000    14\n",
       "38.000000    14\n",
       "40.000000    13\n",
       "50.000000    12\n",
       "45.000000    12\n",
       "48.000000    10\n",
       "4.000000     10\n",
       "47.000000    10\n",
       "             ..\n",
       "21.500000     1\n",
       "11.500000     1\n",
       "12.500000     1\n",
       "15.500000     1\n",
       "25.500000     1\n",
       "57.500000     1\n",
       "9.500000      1\n",
       "43.500000     1\n",
       "80.000000     1\n",
       "1.375000      1\n",
       "46.500000     1\n",
       "17.500000     1\n",
       "22.500000     1\n",
       "1.666667      1\n",
       "38.666667     1\n",
       "70.500000     1\n",
       "16.943333     1\n",
       "0.670000      1\n",
       "37.333333     1\n",
       "18.600000     1\n",
       "18.400000     1\n",
       "31.666667     1\n",
       "11.915000     1\n",
       "27.500000     1\n",
       "12.000000     1\n",
       "8.886667      1\n",
       "39.666667     1\n",
       "0.920000      1\n",
       "34.666667     1\n",
       "48.666667     1\n",
       "Name: Age, Length: 155, dtype: int64"
      ]
     },
     "execution_count": 18,
     "metadata": {},
     "output_type": "execute_result"
    }
   ],
   "source": [
    "age_counts"
   ]
  },
  {
   "cell_type": "code",
   "execution_count": null,
   "metadata": {},
   "outputs": [],
   "source": []
  },
  {
   "cell_type": "code",
   "execution_count": null,
   "metadata": {},
   "outputs": [],
   "source": []
  },
  {
   "cell_type": "code",
   "execution_count": null,
   "metadata": {},
   "outputs": [],
   "source": []
  },
  {
   "cell_type": "code",
   "execution_count": null,
   "metadata": {},
   "outputs": [],
   "source": []
  },
  {
   "cell_type": "code",
   "execution_count": null,
   "metadata": {},
   "outputs": [],
   "source": []
  },
  {
   "cell_type": "code",
   "execution_count": null,
   "metadata": {},
   "outputs": [],
   "source": []
  },
  {
   "cell_type": "code",
   "execution_count": null,
   "metadata": {},
   "outputs": [],
   "source": []
  },
  {
   "cell_type": "code",
   "execution_count": null,
   "metadata": {},
   "outputs": [],
   "source": []
  },
  {
   "cell_type": "code",
   "execution_count": null,
   "metadata": {},
   "outputs": [],
   "source": []
  }
 ],
 "metadata": {
  "kernelspec": {
   "display_name": "Python 3",
   "language": "python",
   "name": "python3"
  },
  "language_info": {
   "codemirror_mode": {
    "name": "ipython",
    "version": 3
   },
   "file_extension": ".py",
   "mimetype": "text/x-python",
   "name": "python",
   "nbconvert_exporter": "python",
   "pygments_lexer": "ipython3",
   "version": "3.7.1"
  }
 },
 "nbformat": 4,
 "nbformat_minor": 2
}
