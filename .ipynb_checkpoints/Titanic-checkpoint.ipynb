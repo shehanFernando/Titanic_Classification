{
 "cells": [
  {
   "cell_type": "code",
   "execution_count": null,
   "metadata": {},
   "outputs": [],
   "source": [
    "import pandas as pd\n",
    "import numpy as np\n",
    "import matplotlib.pyplot as plt\n",
    "import seaborn as sns\n",
    "from sklearn.model_selection import *\n",
    "import sklearn\n",
    "from sklearn import metrics\n",
    "from sklearn import tree\n",
    "from sklearn import ensemble\n",
    "from sklearn import preprocessing\n",
    "sns.set()"
   ]
  },
  {
   "cell_type": "markdown",
   "metadata": {},
   "source": [
    "## Data Import "
   ]
  },
  {
   "cell_type": "code",
   "execution_count": null,
   "metadata": {},
   "outputs": [],
   "source": [
    "train = pd.read_csv(\"train.csv\")\n",
    "test = pd.read_csv(\"test.csv\")\n",
    "col = train.columns"
   ]
  },
  {
   "cell_type": "code",
   "execution_count": null,
   "metadata": {},
   "outputs": [],
   "source": [
    "#Data information\n",
    "train.info()"
   ]
  },
  {
   "cell_type": "code",
   "execution_count": null,
   "metadata": {},
   "outputs": [],
   "source": [
    "f=128903 #bullet styling\n",
    "col # Colum names\n",
    "for i, n in enumerate(col):\n",
    "    print(\"{:c} index: {}  column name: {}\".format(f,i,n))"
   ]
  },
  {
   "cell_type": "markdown",
   "metadata": {},
   "source": [
    "## Preprocessing:"
   ]
  },
  {
   "cell_type": "code",
   "execution_count": null,
   "metadata": {},
   "outputs": [],
   "source": [
    "def toDoPrint(List,f):\n",
    "    str =\"\"\n",
    "    temp = \"\"\n",
    "    for i in List:\n",
    "        temp =\"{:c} {}\".format(f,i)\n",
    "        print(temp)\n",
    "        str += temp + \"\\n\"\n",
    "    return str\n",
    "        \n",
    "        \n",
    "        \n",
    "Todo = {\"Missing data: Age, Cabin, Embarked\",\n",
    "        \"Handling Data\",\"Convert string values to numeric\", \n",
    "        \"Remove cols that do not contribute: Name, Cabin, Ticket and ?\"\n",
    "    }\n",
    "\n",
    "todo_list = toDoPrint(Todo,f)"
   ]
  },
  {
   "cell_type": "code",
   "execution_count": null,
   "metadata": {},
   "outputs": [],
   "source": [
    "def sexRatio(data):\n",
    "    \"\"\"m = male \n",
    "       f = female\n",
    "       t = Total\n",
    "       return an array [men%, female%, Total]\n",
    "    \"\"\"\n",
    "    m=data.Sex[train.Sex==\"male\"].count()\n",
    "    f=data.Sex[train.Sex==\"female\"].count()\n",
    "    t=m+f\n",
    "    return [m/t*100,f/t*100,t]"
   ]
  },
  {
   "cell_type": "code",
   "execution_count": null,
   "metadata": {},
   "outputs": [],
   "source": [
    "def sumList(a,b):\n",
    "    \"\"\"return corresponding sum of each elements\"\"\"\n",
    "    length = len(a)\n",
    "    if(length != len(b)):\n",
    "        print(\"A and B are not the same length\")\n",
    "        return []\n",
    "    \n",
    "    sum_v =[]\n",
    "    for i in range(0,length):\n",
    "        sum_v.append(a[i]+b[i])\n",
    "        \n",
    "    return sum_v\n",
    "    \n",
    "    \n",
    "def pieChart(data, data1=[], both=False):\n",
    "  \n",
    "    \n",
    "    if(both):\n",
    "        ratio = sumList(sexRatio(data),sexRatio(data1))\n",
    "    else:\n",
    "        ratio = sexRatio(data)\n",
    "    \n",
    "    labels = 'Male', 'Female'\n",
    "    sizes = [ratio[0], ratio[1]]\n",
    "    \n",
    "\n",
    "    fig1, ax1 = plt.subplots()\n",
    "    ax1.pie(sizes,labels=labels, autopct='%1.1f%%',\n",
    "            shadow=True, startangle=90)\n",
    "    \n",
    "\n",
    "    plt.show()"
   ]
  },
  {
   "cell_type": "code",
   "execution_count": null,
   "metadata": {},
   "outputs": [],
   "source": [
    "pieChart(train,test,both=True)"
   ]
  },
  {
   "cell_type": "markdown",
   "metadata": {},
   "source": [
    "## Missing data:"
   ]
  },
  {
   "cell_type": "code",
   "execution_count": null,
   "metadata": {},
   "outputs": [],
   "source": [
    "def numerOfMissingValues(p, col, get_data = False):\n",
    "    \"\"\"numerOfMissingValues(pd, col, get_data = False)\n",
    "       p: DataFrame\n",
    "       col: column that needs to find the missing values\n",
    "\n",
    "       Returns the total number of missing data\n",
    "       return the pandas DatFrame of values if get_data is set to True\n",
    "    \"\"\"\n",
    "    data = p[pd.isnull(p[col])]\n",
    "    if get_data:\n",
    "        return data\n",
    "    else: \n",
    "        return len(data)"
   ]
  },
  {
   "cell_type": "code",
   "execution_count": null,
   "metadata": {},
   "outputs": [],
   "source": [
    "# As shown on info there are 891 rows of data\n",
    "\n",
    "missing =['Age', 'Cabin','Embarked']\n",
    "for i in missing:\n",
    "    print(\"{:c} Number of values missing in {} is: {}\".format(f,i,numerOfMissingValues(train,i)))\n",
    "    "
   ]
  },
  {
   "cell_type": "markdown",
   "metadata": {},
   "source": [
    "***As shown above there are 177 missing values in Age, Cabin and Embarked**"
   ]
  },
  {
   "cell_type": "markdown",
   "metadata": {},
   "source": [
    "### Handling Missing Data"
   ]
  },
  {
   "cell_type": "code",
   "execution_count": null,
   "metadata": {},
   "outputs": [],
   "source": [
    "#Age: interpolate the missing data\n",
    "train['Age'] = train['Age'].interpolate()\n",
    "#Drop 'Name','Ticket','Cabin' because it is nor relavant to the model\n",
    "cols = ['Name','Ticket','Cabin']\n",
    "train = train.drop(cols,axis=1)"
   ]
  },
  {
   "cell_type": "code",
   "execution_count": null,
   "metadata": {
    "scrolled": true
   },
   "outputs": [],
   "source": [
    "dummies = []\n",
    "cols = ['Pclass','Sex','Embarked']\n",
    "for col in cols:\n",
    "    dummies.append(pd.get_dummies(df[col]))\n"
   ]
  },
  {
   "cell_type": "code",
   "execution_count": null,
   "metadata": {},
   "outputs": [],
   "source": []
  },
  {
   "cell_type": "code",
   "execution_count": null,
   "metadata": {},
   "outputs": [],
   "source": [
    "titanic_dummies = pd.concat(dummies, axis=1)\n",
    "df = train\n",
    "df = pd.concat((df,titanic_dummies),axis=1)\n"
   ]
  },
  {
   "cell_type": "code",
   "execution_count": null,
   "metadata": {},
   "outputs": [],
   "source": [
    "df = df.drop(['Pclass','Sex','Embarked'],axis=1)"
   ]
  },
  {
   "cell_type": "markdown",
   "metadata": {},
   "source": [
    "### Converting String literals to Numeric:"
   ]
  },
  {
   "cell_type": "code",
   "execution_count": null,
   "metadata": {},
   "outputs": [],
   "source": [
    "def stringToNum(row):\n",
    "    if(row.Sex)==\"female\":\n",
    "        row.Sex = 1\n",
    "    else:\n",
    "        row.Sex = 2\n",
    "\n",
    "    if(row.Embarked)==\"S\":\n",
    "        row.Embarked = 1\n",
    "    elif row.Embarked == \"C\":\n",
    "        row.Embarked = 2\n",
    "    else:\n",
    "        row.Embarked = 3\n",
    "    return row\n",
    "\n",
    "train =train.apply(stringToNum, axis='columns')\n",
    "train.head(10)\n"
   ]
  },
  {
   "cell_type": "markdown",
   "metadata": {},
   "source": [
    "### Classification:"
   ]
  },
  {
   "cell_type": "code",
   "execution_count": null,
   "metadata": {},
   "outputs": [],
   "source": [
    "#df = train\n",
    "x = df.values\n",
    "y = df['Survived'].values\n",
    "x = np.delete(x,1,axis=1)"
   ]
  },
  {
   "cell_type": "code",
   "execution_count": null,
   "metadata": {},
   "outputs": [],
   "source": [
    "X_train,X_test,Y_train,Y_test = sklearn.model_selection.train_test_split(x,y,test_size=.3,shuffle=True)"
   ]
  },
  {
   "cell_type": "code",
   "execution_count": null,
   "metadata": {},
   "outputs": [],
   "source": [
    "clf = tree.DecisionTreeClassifier(max_depth=5)\n",
    "clf.fit(X_train,Y_train)\n",
    "clf.score(X_test,Y_test)"
   ]
  },
  {
   "cell_type": "code",
   "execution_count": null,
   "metadata": {},
   "outputs": [],
   "source": [
    "clf = ensemble.RandomForestClassifier(n_estimators=100)\n",
    "clf.fit (X_train, Y_train)\n",
    "clf.score (X_test, Y_test)"
   ]
  },
  {
   "cell_type": "code",
   "execution_count": null,
   "metadata": {},
   "outputs": [],
   "source": [
    "clf = ensemble.GradientBoostingClassifier()\n",
    "clf.fit (X_train, Y_train)\n",
    "clf.score (X_test, Y_test)"
   ]
  },
  {
   "cell_type": "code",
   "execution_count": null,
   "metadata": {},
   "outputs": [],
   "source": [
    "from sklearn.naive_bayes import GaussianNB\n",
    "clf = GaussianNB()\n",
    "clf.fit(x, y)\n",
    "clf.score (X_test, Y_test)"
   ]
  },
  {
   "cell_type": "code",
   "execution_count": null,
   "metadata": {
    "scrolled": true
   },
   "outputs": [],
   "source": [
    "from sklearn.neighbors import KNeighborsClassifier\n",
    "\n",
    "neigh = KNeighborsClassifier(n_neighbors=3)\n",
    "neigh.fit(x, y)\n",
    "neigh.score (X_test, Y_test)\n"
   ]
  },
  {
   "cell_type": "code",
   "execution_count": null,
   "metadata": {},
   "outputs": [],
   "source": [
    "from sklearn.neural_network import MLPClassifier\n",
    "from sklearn.datasets import make_classification\n",
    "\n",
    "clf = MLPClassifier(random_state=2, max_iter=30000).fit(X_train, Y_train)\n",
    "clf.score(X_test, Y_test)"
   ]
  },
  {
   "cell_type": "code",
   "execution_count": null,
   "metadata": {},
   "outputs": [],
   "source": []
  },
  {
   "cell_type": "code",
   "execution_count": null,
   "metadata": {},
   "outputs": [],
   "source": []
  }
 ],
 "metadata": {
  "kernelspec": {
   "display_name": "Python 3",
   "language": "python",
   "name": "python3"
  },
  "language_info": {
   "codemirror_mode": {
    "name": "ipython",
    "version": 3
   },
   "file_extension": ".py",
   "mimetype": "text/x-python",
   "name": "python",
   "nbconvert_exporter": "python",
   "pygments_lexer": "ipython3",
   "version": "3.7.1"
  }
 },
 "nbformat": 4,
 "nbformat_minor": 2
}
